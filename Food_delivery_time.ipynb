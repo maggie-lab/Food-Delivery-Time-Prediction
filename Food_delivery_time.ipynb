{
  "cells": [
    {
      "cell_type": "code",
      "execution_count": null,
      "id": "1dabcc8f",
      "metadata": {
        "id": "1dabcc8f"
      },
      "outputs": [],
      "source": [
        "import pandas as pd\n",
        "import numpy as np\n",
        "from matplotlib import pyplot as plt\n",
        "import seaborn as sns\n",
        "import warnings\n",
        "warnings.filterwarnings('ignore')\n",
        "from sklearn.preprocessing import StandardScaler"
      ]
    },
    {
      "cell_type": "code",
      "execution_count": null,
      "id": "4770146a",
      "metadata": {
        "id": "4770146a"
      },
      "outputs": [],
      "source": [
        "train = pd.read_csv(\"train.csv\")\n",
        "test = pd.read_csv(\"test.csv\")"
      ]
    },
    {
      "cell_type": "code",
      "execution_count": null,
      "id": "2a989381",
      "metadata": {
        "scrolled": false,
        "colab": {
          "base_uri": "https://localhost:8080/",
          "height": 305
        },
        "id": "2a989381",
        "outputId": "b4d055b3-c1ea-4408-88b9-91e9aaa6d388"
      },
      "outputs": [
        {
          "output_type": "stream",
          "name": "stdout",
          "text": [
            "The shape of the train data is: 45593, 20\n"
          ]
        },
        {
          "output_type": "execute_result",
          "data": {
            "text/plain": [
              "        ID Delivery_person_ID Delivery_person_Age Delivery_person_Ratings  \\\n",
              "0  0x4607     INDORES13DEL02                   37                     4.9   \n",
              "1  0xb379     BANGRES18DEL02                   34                     4.5   \n",
              "2  0x5d6d     BANGRES19DEL01                   23                     4.4   \n",
              "3  0x7a6a    COIMBRES13DEL02                   38                     4.7   \n",
              "4  0x70a2     CHENRES12DEL01                   32                     4.6   \n",
              "\n",
              "   Restaurant_latitude  Restaurant_longitude  Delivery_location_latitude  \\\n",
              "0            22.745049             75.892471                   22.765049   \n",
              "1            12.913041             77.683237                   13.043041   \n",
              "2            12.914264             77.678400                   12.924264   \n",
              "3            11.003669             76.976494                   11.053669   \n",
              "4            12.972793             80.249982                   13.012793   \n",
              "\n",
              "   Delivery_location_longitude  Order_Date Time_Orderd Time_Order_picked  \\\n",
              "0                    75.912471  19-03-2022    11:30:00          11:45:00   \n",
              "1                    77.813237  25-03-2022    19:45:00          19:50:00   \n",
              "2                    77.688400  19-03-2022    08:30:00          08:45:00   \n",
              "3                    77.026494  05-04-2022    18:00:00          18:10:00   \n",
              "4                    80.289982  26-03-2022    13:30:00          13:45:00   \n",
              "\n",
              "       Weatherconditions Road_traffic_density  Vehicle_condition  \\\n",
              "0       conditions Sunny                High                   2   \n",
              "1      conditions Stormy                 Jam                   2   \n",
              "2  conditions Sandstorms                 Low                   0   \n",
              "3       conditions Sunny              Medium                   0   \n",
              "4      conditions Cloudy                High                   1   \n",
              "\n",
              "  Type_of_order Type_of_vehicle multiple_deliveries Festival            City  \\\n",
              "0        Snack      motorcycle                    0      No           Urban    \n",
              "1        Snack         scooter                    1      No   Metropolitian    \n",
              "2       Drinks      motorcycle                    1      No           Urban    \n",
              "3       Buffet      motorcycle                    1      No   Metropolitian    \n",
              "4        Snack         scooter                    1      No   Metropolitian    \n",
              "\n",
              "  Time_taken(min)  \n",
              "0        (min) 24  \n",
              "1        (min) 33  \n",
              "2        (min) 26  \n",
              "3        (min) 21  \n",
              "4        (min) 30  "
            ],
            "text/html": [
              "\n",
              "\n",
              "  <div id=\"df-b6cbe718-fdf2-4b8e-b9d8-15808ec0f6f6\">\n",
              "    <div class=\"colab-df-container\">\n",
              "      <div>\n",
              "<style scoped>\n",
              "    .dataframe tbody tr th:only-of-type {\n",
              "        vertical-align: middle;\n",
              "    }\n",
              "\n",
              "    .dataframe tbody tr th {\n",
              "        vertical-align: top;\n",
              "    }\n",
              "\n",
              "    .dataframe thead th {\n",
              "        text-align: right;\n",
              "    }\n",
              "</style>\n",
              "<table border=\"1\" class=\"dataframe\">\n",
              "  <thead>\n",
              "    <tr style=\"text-align: right;\">\n",
              "      <th></th>\n",
              "      <th>ID</th>\n",
              "      <th>Delivery_person_ID</th>\n",
              "      <th>Delivery_person_Age</th>\n",
              "      <th>Delivery_person_Ratings</th>\n",
              "      <th>Restaurant_latitude</th>\n",
              "      <th>Restaurant_longitude</th>\n",
              "      <th>Delivery_location_latitude</th>\n",
              "      <th>Delivery_location_longitude</th>\n",
              "      <th>Order_Date</th>\n",
              "      <th>Time_Orderd</th>\n",
              "      <th>Time_Order_picked</th>\n",
              "      <th>Weatherconditions</th>\n",
              "      <th>Road_traffic_density</th>\n",
              "      <th>Vehicle_condition</th>\n",
              "      <th>Type_of_order</th>\n",
              "      <th>Type_of_vehicle</th>\n",
              "      <th>multiple_deliveries</th>\n",
              "      <th>Festival</th>\n",
              "      <th>City</th>\n",
              "      <th>Time_taken(min)</th>\n",
              "    </tr>\n",
              "  </thead>\n",
              "  <tbody>\n",
              "    <tr>\n",
              "      <th>0</th>\n",
              "      <td>0x4607</td>\n",
              "      <td>INDORES13DEL02</td>\n",
              "      <td>37</td>\n",
              "      <td>4.9</td>\n",
              "      <td>22.745049</td>\n",
              "      <td>75.892471</td>\n",
              "      <td>22.765049</td>\n",
              "      <td>75.912471</td>\n",
              "      <td>19-03-2022</td>\n",
              "      <td>11:30:00</td>\n",
              "      <td>11:45:00</td>\n",
              "      <td>conditions Sunny</td>\n",
              "      <td>High</td>\n",
              "      <td>2</td>\n",
              "      <td>Snack</td>\n",
              "      <td>motorcycle</td>\n",
              "      <td>0</td>\n",
              "      <td>No</td>\n",
              "      <td>Urban</td>\n",
              "      <td>(min) 24</td>\n",
              "    </tr>\n",
              "    <tr>\n",
              "      <th>1</th>\n",
              "      <td>0xb379</td>\n",
              "      <td>BANGRES18DEL02</td>\n",
              "      <td>34</td>\n",
              "      <td>4.5</td>\n",
              "      <td>12.913041</td>\n",
              "      <td>77.683237</td>\n",
              "      <td>13.043041</td>\n",
              "      <td>77.813237</td>\n",
              "      <td>25-03-2022</td>\n",
              "      <td>19:45:00</td>\n",
              "      <td>19:50:00</td>\n",
              "      <td>conditions Stormy</td>\n",
              "      <td>Jam</td>\n",
              "      <td>2</td>\n",
              "      <td>Snack</td>\n",
              "      <td>scooter</td>\n",
              "      <td>1</td>\n",
              "      <td>No</td>\n",
              "      <td>Metropolitian</td>\n",
              "      <td>(min) 33</td>\n",
              "    </tr>\n",
              "    <tr>\n",
              "      <th>2</th>\n",
              "      <td>0x5d6d</td>\n",
              "      <td>BANGRES19DEL01</td>\n",
              "      <td>23</td>\n",
              "      <td>4.4</td>\n",
              "      <td>12.914264</td>\n",
              "      <td>77.678400</td>\n",
              "      <td>12.924264</td>\n",
              "      <td>77.688400</td>\n",
              "      <td>19-03-2022</td>\n",
              "      <td>08:30:00</td>\n",
              "      <td>08:45:00</td>\n",
              "      <td>conditions Sandstorms</td>\n",
              "      <td>Low</td>\n",
              "      <td>0</td>\n",
              "      <td>Drinks</td>\n",
              "      <td>motorcycle</td>\n",
              "      <td>1</td>\n",
              "      <td>No</td>\n",
              "      <td>Urban</td>\n",
              "      <td>(min) 26</td>\n",
              "    </tr>\n",
              "    <tr>\n",
              "      <th>3</th>\n",
              "      <td>0x7a6a</td>\n",
              "      <td>COIMBRES13DEL02</td>\n",
              "      <td>38</td>\n",
              "      <td>4.7</td>\n",
              "      <td>11.003669</td>\n",
              "      <td>76.976494</td>\n",
              "      <td>11.053669</td>\n",
              "      <td>77.026494</td>\n",
              "      <td>05-04-2022</td>\n",
              "      <td>18:00:00</td>\n",
              "      <td>18:10:00</td>\n",
              "      <td>conditions Sunny</td>\n",
              "      <td>Medium</td>\n",
              "      <td>0</td>\n",
              "      <td>Buffet</td>\n",
              "      <td>motorcycle</td>\n",
              "      <td>1</td>\n",
              "      <td>No</td>\n",
              "      <td>Metropolitian</td>\n",
              "      <td>(min) 21</td>\n",
              "    </tr>\n",
              "    <tr>\n",
              "      <th>4</th>\n",
              "      <td>0x70a2</td>\n",
              "      <td>CHENRES12DEL01</td>\n",
              "      <td>32</td>\n",
              "      <td>4.6</td>\n",
              "      <td>12.972793</td>\n",
              "      <td>80.249982</td>\n",
              "      <td>13.012793</td>\n",
              "      <td>80.289982</td>\n",
              "      <td>26-03-2022</td>\n",
              "      <td>13:30:00</td>\n",
              "      <td>13:45:00</td>\n",
              "      <td>conditions Cloudy</td>\n",
              "      <td>High</td>\n",
              "      <td>1</td>\n",
              "      <td>Snack</td>\n",
              "      <td>scooter</td>\n",
              "      <td>1</td>\n",
              "      <td>No</td>\n",
              "      <td>Metropolitian</td>\n",
              "      <td>(min) 30</td>\n",
              "    </tr>\n",
              "  </tbody>\n",
              "</table>\n",
              "</div>\n",
              "      <button class=\"colab-df-convert\" onclick=\"convertToInteractive('df-b6cbe718-fdf2-4b8e-b9d8-15808ec0f6f6')\"\n",
              "              title=\"Convert this dataframe to an interactive table.\"\n",
              "              style=\"display:none;\">\n",
              "\n",
              "  <svg xmlns=\"http://www.w3.org/2000/svg\" height=\"24px\"viewBox=\"0 0 24 24\"\n",
              "       width=\"24px\">\n",
              "    <path d=\"M0 0h24v24H0V0z\" fill=\"none\"/>\n",
              "    <path d=\"M18.56 5.44l.94 2.06.94-2.06 2.06-.94-2.06-.94-.94-2.06-.94 2.06-2.06.94zm-11 1L8.5 8.5l.94-2.06 2.06-.94-2.06-.94L8.5 2.5l-.94 2.06-2.06.94zm10 10l.94 2.06.94-2.06 2.06-.94-2.06-.94-.94-2.06-.94 2.06-2.06.94z\"/><path d=\"M17.41 7.96l-1.37-1.37c-.4-.4-.92-.59-1.43-.59-.52 0-1.04.2-1.43.59L10.3 9.45l-7.72 7.72c-.78.78-.78 2.05 0 2.83L4 21.41c.39.39.9.59 1.41.59.51 0 1.02-.2 1.41-.59l7.78-7.78 2.81-2.81c.8-.78.8-2.07 0-2.86zM5.41 20L4 18.59l7.72-7.72 1.47 1.35L5.41 20z\"/>\n",
              "  </svg>\n",
              "      </button>\n",
              "\n",
              "\n",
              "\n",
              "    <div id=\"df-ae6273eb-41d4-465b-aa40-c3f934268e51\">\n",
              "      <button class=\"colab-df-quickchart\" onclick=\"quickchart('df-ae6273eb-41d4-465b-aa40-c3f934268e51')\"\n",
              "              title=\"Suggest charts.\"\n",
              "              style=\"display:none;\">\n",
              "\n",
              "<svg xmlns=\"http://www.w3.org/2000/svg\" height=\"24px\"viewBox=\"0 0 24 24\"\n",
              "     width=\"24px\">\n",
              "    <g>\n",
              "        <path d=\"M19 3H5c-1.1 0-2 .9-2 2v14c0 1.1.9 2 2 2h14c1.1 0 2-.9 2-2V5c0-1.1-.9-2-2-2zM9 17H7v-7h2v7zm4 0h-2V7h2v10zm4 0h-2v-4h2v4z\"/>\n",
              "    </g>\n",
              "</svg>\n",
              "      </button>\n",
              "    </div>\n",
              "\n",
              "<style>\n",
              "  .colab-df-quickchart {\n",
              "    background-color: #E8F0FE;\n",
              "    border: none;\n",
              "    border-radius: 50%;\n",
              "    cursor: pointer;\n",
              "    display: none;\n",
              "    fill: #1967D2;\n",
              "    height: 32px;\n",
              "    padding: 0 0 0 0;\n",
              "    width: 32px;\n",
              "  }\n",
              "\n",
              "  .colab-df-quickchart:hover {\n",
              "    background-color: #E2EBFA;\n",
              "    box-shadow: 0px 1px 2px rgba(60, 64, 67, 0.3), 0px 1px 3px 1px rgba(60, 64, 67, 0.15);\n",
              "    fill: #174EA6;\n",
              "  }\n",
              "\n",
              "  [theme=dark] .colab-df-quickchart {\n",
              "    background-color: #3B4455;\n",
              "    fill: #D2E3FC;\n",
              "  }\n",
              "\n",
              "  [theme=dark] .colab-df-quickchart:hover {\n",
              "    background-color: #434B5C;\n",
              "    box-shadow: 0px 1px 3px 1px rgba(0, 0, 0, 0.15);\n",
              "    filter: drop-shadow(0px 1px 2px rgba(0, 0, 0, 0.3));\n",
              "    fill: #FFFFFF;\n",
              "  }\n",
              "</style>\n",
              "\n",
              "    <script>\n",
              "      async function quickchart(key) {\n",
              "        const containerElement = document.querySelector('#' + key);\n",
              "        const charts = await google.colab.kernel.invokeFunction(\n",
              "            'suggestCharts', [key], {});\n",
              "      }\n",
              "    </script>\n",
              "\n",
              "      <script>\n",
              "\n",
              "function displayQuickchartButton(domScope) {\n",
              "  let quickchartButtonEl =\n",
              "    domScope.querySelector('#df-ae6273eb-41d4-465b-aa40-c3f934268e51 button.colab-df-quickchart');\n",
              "  quickchartButtonEl.style.display =\n",
              "    google.colab.kernel.accessAllowed ? 'block' : 'none';\n",
              "}\n",
              "\n",
              "        displayQuickchartButton(document);\n",
              "      </script>\n",
              "      <style>\n",
              "    .colab-df-container {\n",
              "      display:flex;\n",
              "      flex-wrap:wrap;\n",
              "      gap: 12px;\n",
              "    }\n",
              "\n",
              "    .colab-df-convert {\n",
              "      background-color: #E8F0FE;\n",
              "      border: none;\n",
              "      border-radius: 50%;\n",
              "      cursor: pointer;\n",
              "      display: none;\n",
              "      fill: #1967D2;\n",
              "      height: 32px;\n",
              "      padding: 0 0 0 0;\n",
              "      width: 32px;\n",
              "    }\n",
              "\n",
              "    .colab-df-convert:hover {\n",
              "      background-color: #E2EBFA;\n",
              "      box-shadow: 0px 1px 2px rgba(60, 64, 67, 0.3), 0px 1px 3px 1px rgba(60, 64, 67, 0.15);\n",
              "      fill: #174EA6;\n",
              "    }\n",
              "\n",
              "    [theme=dark] .colab-df-convert {\n",
              "      background-color: #3B4455;\n",
              "      fill: #D2E3FC;\n",
              "    }\n",
              "\n",
              "    [theme=dark] .colab-df-convert:hover {\n",
              "      background-color: #434B5C;\n",
              "      box-shadow: 0px 1px 3px 1px rgba(0, 0, 0, 0.15);\n",
              "      filter: drop-shadow(0px 1px 2px rgba(0, 0, 0, 0.3));\n",
              "      fill: #FFFFFF;\n",
              "    }\n",
              "  </style>\n",
              "\n",
              "      <script>\n",
              "        const buttonEl =\n",
              "          document.querySelector('#df-b6cbe718-fdf2-4b8e-b9d8-15808ec0f6f6 button.colab-df-convert');\n",
              "        buttonEl.style.display =\n",
              "          google.colab.kernel.accessAllowed ? 'block' : 'none';\n",
              "\n",
              "        async function convertToInteractive(key) {\n",
              "          const element = document.querySelector('#df-b6cbe718-fdf2-4b8e-b9d8-15808ec0f6f6');\n",
              "          const dataTable =\n",
              "            await google.colab.kernel.invokeFunction('convertToInteractive',\n",
              "                                                     [key], {});\n",
              "          if (!dataTable) return;\n",
              "\n",
              "          const docLinkHtml = 'Like what you see? Visit the ' +\n",
              "            '<a target=\"_blank\" href=https://colab.research.google.com/notebooks/data_table.ipynb>data table notebook</a>'\n",
              "            + ' to learn more about interactive tables.';\n",
              "          element.innerHTML = '';\n",
              "          dataTable['output_type'] = 'display_data';\n",
              "          await google.colab.output.renderOutput(dataTable, element);\n",
              "          const docLink = document.createElement('div');\n",
              "          docLink.innerHTML = docLinkHtml;\n",
              "          element.appendChild(docLink);\n",
              "        }\n",
              "      </script>\n",
              "    </div>\n",
              "  </div>\n"
            ]
          },
          "metadata": {},
          "execution_count": 3
        }
      ],
      "source": [
        "print(\"The shape of the train data is: %d, %d\" % (train.shape[0],train.shape[1]))\n",
        "train.head()"
      ]
    },
    {
      "cell_type": "code",
      "execution_count": null,
      "id": "f82ff3fa",
      "metadata": {
        "colab": {
          "base_uri": "https://localhost:8080/",
          "height": 287
        },
        "id": "f82ff3fa",
        "outputId": "c945a4af-3959-4d80-8d5d-72fd004d9f64"
      },
      "outputs": [
        {
          "output_type": "stream",
          "name": "stdout",
          "text": [
            "The shape of the test data is: 11399, 19\n"
          ]
        },
        {
          "output_type": "execute_result",
          "data": {
            "text/plain": [
              "        ID Delivery_person_ID Delivery_person_Age Delivery_person_Ratings  \\\n",
              "0  0x2318    COIMBRES13DEL01                 NaN                     NaN    \n",
              "1  0x3474     BANGRES15DEL01                   28                     4.6   \n",
              "2  0x9420      JAPRES09DEL03                   23                     4.5   \n",
              "3  0x72ee      JAPRES07DEL03                   21                     4.8   \n",
              "4  0xa759     CHENRES19DEL01                   31                     4.6   \n",
              "\n",
              "   Restaurant_latitude  Restaurant_longitude  Delivery_location_latitude  \\\n",
              "0            11.003669             76.976494                   11.043669   \n",
              "1            12.975377             77.696664                   13.085377   \n",
              "2            26.911378             75.789034                   27.001378   \n",
              "3            26.766536             75.837333                   26.856536   \n",
              "4            12.986047             80.218114                   13.096047   \n",
              "\n",
              "   Delivery_location_longitude  Order_Date Time_Orderd Time_Order_picked  \\\n",
              "0                    77.016494  30-03-2022        NaN           15:05:00   \n",
              "1                    77.806664  29-03-2022    20:30:00          20:35:00   \n",
              "2                    75.879034  10-03-2022    19:35:00          19:45:00   \n",
              "3                    75.927333  02-04-2022    17:15:00          17:20:00   \n",
              "4                    80.328114  27-03-2022    18:25:00          18:40:00   \n",
              "\n",
              "   Weatherconditions Road_traffic_density  Vehicle_condition Type_of_order  \\\n",
              "0     conditions NaN                 NaN                   3       Drinks    \n",
              "1   conditions Windy                 Jam                   0        Snack    \n",
              "2  conditions Stormy                 Jam                   0       Drinks    \n",
              "3     conditions Fog              Medium                   1         Meal    \n",
              "4   conditions Sunny              Medium                   2       Drinks    \n",
              "\n",
              "     Type_of_vehicle multiple_deliveries Festival            City  \n",
              "0  electric_scooter                    1      No   Metropolitian   \n",
              "1        motorcycle                    1      No   Metropolitian   \n",
              "2        motorcycle                    1      No   Metropolitian   \n",
              "3           scooter                    1      No   Metropolitian   \n",
              "4           scooter                    1      No   Metropolitian   "
            ],
            "text/html": [
              "\n",
              "\n",
              "  <div id=\"df-5e91145d-eba4-4951-855c-14ebe0708fd2\">\n",
              "    <div class=\"colab-df-container\">\n",
              "      <div>\n",
              "<style scoped>\n",
              "    .dataframe tbody tr th:only-of-type {\n",
              "        vertical-align: middle;\n",
              "    }\n",
              "\n",
              "    .dataframe tbody tr th {\n",
              "        vertical-align: top;\n",
              "    }\n",
              "\n",
              "    .dataframe thead th {\n",
              "        text-align: right;\n",
              "    }\n",
              "</style>\n",
              "<table border=\"1\" class=\"dataframe\">\n",
              "  <thead>\n",
              "    <tr style=\"text-align: right;\">\n",
              "      <th></th>\n",
              "      <th>ID</th>\n",
              "      <th>Delivery_person_ID</th>\n",
              "      <th>Delivery_person_Age</th>\n",
              "      <th>Delivery_person_Ratings</th>\n",
              "      <th>Restaurant_latitude</th>\n",
              "      <th>Restaurant_longitude</th>\n",
              "      <th>Delivery_location_latitude</th>\n",
              "      <th>Delivery_location_longitude</th>\n",
              "      <th>Order_Date</th>\n",
              "      <th>Time_Orderd</th>\n",
              "      <th>Time_Order_picked</th>\n",
              "      <th>Weatherconditions</th>\n",
              "      <th>Road_traffic_density</th>\n",
              "      <th>Vehicle_condition</th>\n",
              "      <th>Type_of_order</th>\n",
              "      <th>Type_of_vehicle</th>\n",
              "      <th>multiple_deliveries</th>\n",
              "      <th>Festival</th>\n",
              "      <th>City</th>\n",
              "    </tr>\n",
              "  </thead>\n",
              "  <tbody>\n",
              "    <tr>\n",
              "      <th>0</th>\n",
              "      <td>0x2318</td>\n",
              "      <td>COIMBRES13DEL01</td>\n",
              "      <td>NaN</td>\n",
              "      <td>NaN</td>\n",
              "      <td>11.003669</td>\n",
              "      <td>76.976494</td>\n",
              "      <td>11.043669</td>\n",
              "      <td>77.016494</td>\n",
              "      <td>30-03-2022</td>\n",
              "      <td>NaN</td>\n",
              "      <td>15:05:00</td>\n",
              "      <td>conditions NaN</td>\n",
              "      <td>NaN</td>\n",
              "      <td>3</td>\n",
              "      <td>Drinks</td>\n",
              "      <td>electric_scooter</td>\n",
              "      <td>1</td>\n",
              "      <td>No</td>\n",
              "      <td>Metropolitian</td>\n",
              "    </tr>\n",
              "    <tr>\n",
              "      <th>1</th>\n",
              "      <td>0x3474</td>\n",
              "      <td>BANGRES15DEL01</td>\n",
              "      <td>28</td>\n",
              "      <td>4.6</td>\n",
              "      <td>12.975377</td>\n",
              "      <td>77.696664</td>\n",
              "      <td>13.085377</td>\n",
              "      <td>77.806664</td>\n",
              "      <td>29-03-2022</td>\n",
              "      <td>20:30:00</td>\n",
              "      <td>20:35:00</td>\n",
              "      <td>conditions Windy</td>\n",
              "      <td>Jam</td>\n",
              "      <td>0</td>\n",
              "      <td>Snack</td>\n",
              "      <td>motorcycle</td>\n",
              "      <td>1</td>\n",
              "      <td>No</td>\n",
              "      <td>Metropolitian</td>\n",
              "    </tr>\n",
              "    <tr>\n",
              "      <th>2</th>\n",
              "      <td>0x9420</td>\n",
              "      <td>JAPRES09DEL03</td>\n",
              "      <td>23</td>\n",
              "      <td>4.5</td>\n",
              "      <td>26.911378</td>\n",
              "      <td>75.789034</td>\n",
              "      <td>27.001378</td>\n",
              "      <td>75.879034</td>\n",
              "      <td>10-03-2022</td>\n",
              "      <td>19:35:00</td>\n",
              "      <td>19:45:00</td>\n",
              "      <td>conditions Stormy</td>\n",
              "      <td>Jam</td>\n",
              "      <td>0</td>\n",
              "      <td>Drinks</td>\n",
              "      <td>motorcycle</td>\n",
              "      <td>1</td>\n",
              "      <td>No</td>\n",
              "      <td>Metropolitian</td>\n",
              "    </tr>\n",
              "    <tr>\n",
              "      <th>3</th>\n",
              "      <td>0x72ee</td>\n",
              "      <td>JAPRES07DEL03</td>\n",
              "      <td>21</td>\n",
              "      <td>4.8</td>\n",
              "      <td>26.766536</td>\n",
              "      <td>75.837333</td>\n",
              "      <td>26.856536</td>\n",
              "      <td>75.927333</td>\n",
              "      <td>02-04-2022</td>\n",
              "      <td>17:15:00</td>\n",
              "      <td>17:20:00</td>\n",
              "      <td>conditions Fog</td>\n",
              "      <td>Medium</td>\n",
              "      <td>1</td>\n",
              "      <td>Meal</td>\n",
              "      <td>scooter</td>\n",
              "      <td>1</td>\n",
              "      <td>No</td>\n",
              "      <td>Metropolitian</td>\n",
              "    </tr>\n",
              "    <tr>\n",
              "      <th>4</th>\n",
              "      <td>0xa759</td>\n",
              "      <td>CHENRES19DEL01</td>\n",
              "      <td>31</td>\n",
              "      <td>4.6</td>\n",
              "      <td>12.986047</td>\n",
              "      <td>80.218114</td>\n",
              "      <td>13.096047</td>\n",
              "      <td>80.328114</td>\n",
              "      <td>27-03-2022</td>\n",
              "      <td>18:25:00</td>\n",
              "      <td>18:40:00</td>\n",
              "      <td>conditions Sunny</td>\n",
              "      <td>Medium</td>\n",
              "      <td>2</td>\n",
              "      <td>Drinks</td>\n",
              "      <td>scooter</td>\n",
              "      <td>1</td>\n",
              "      <td>No</td>\n",
              "      <td>Metropolitian</td>\n",
              "    </tr>\n",
              "  </tbody>\n",
              "</table>\n",
              "</div>\n",
              "      <button class=\"colab-df-convert\" onclick=\"convertToInteractive('df-5e91145d-eba4-4951-855c-14ebe0708fd2')\"\n",
              "              title=\"Convert this dataframe to an interactive table.\"\n",
              "              style=\"display:none;\">\n",
              "\n",
              "  <svg xmlns=\"http://www.w3.org/2000/svg\" height=\"24px\"viewBox=\"0 0 24 24\"\n",
              "       width=\"24px\">\n",
              "    <path d=\"M0 0h24v24H0V0z\" fill=\"none\"/>\n",
              "    <path d=\"M18.56 5.44l.94 2.06.94-2.06 2.06-.94-2.06-.94-.94-2.06-.94 2.06-2.06.94zm-11 1L8.5 8.5l.94-2.06 2.06-.94-2.06-.94L8.5 2.5l-.94 2.06-2.06.94zm10 10l.94 2.06.94-2.06 2.06-.94-2.06-.94-.94-2.06-.94 2.06-2.06.94z\"/><path d=\"M17.41 7.96l-1.37-1.37c-.4-.4-.92-.59-1.43-.59-.52 0-1.04.2-1.43.59L10.3 9.45l-7.72 7.72c-.78.78-.78 2.05 0 2.83L4 21.41c.39.39.9.59 1.41.59.51 0 1.02-.2 1.41-.59l7.78-7.78 2.81-2.81c.8-.78.8-2.07 0-2.86zM5.41 20L4 18.59l7.72-7.72 1.47 1.35L5.41 20z\"/>\n",
              "  </svg>\n",
              "      </button>\n",
              "\n",
              "\n",
              "\n",
              "    <div id=\"df-744874e5-713c-4748-9985-78f9ff929ca5\">\n",
              "      <button class=\"colab-df-quickchart\" onclick=\"quickchart('df-744874e5-713c-4748-9985-78f9ff929ca5')\"\n",
              "              title=\"Suggest charts.\"\n",
              "              style=\"display:none;\">\n",
              "\n",
              "<svg xmlns=\"http://www.w3.org/2000/svg\" height=\"24px\"viewBox=\"0 0 24 24\"\n",
              "     width=\"24px\">\n",
              "    <g>\n",
              "        <path d=\"M19 3H5c-1.1 0-2 .9-2 2v14c0 1.1.9 2 2 2h14c1.1 0 2-.9 2-2V5c0-1.1-.9-2-2-2zM9 17H7v-7h2v7zm4 0h-2V7h2v10zm4 0h-2v-4h2v4z\"/>\n",
              "    </g>\n",
              "</svg>\n",
              "      </button>\n",
              "    </div>\n",
              "\n",
              "<style>\n",
              "  .colab-df-quickchart {\n",
              "    background-color: #E8F0FE;\n",
              "    border: none;\n",
              "    border-radius: 50%;\n",
              "    cursor: pointer;\n",
              "    display: none;\n",
              "    fill: #1967D2;\n",
              "    height: 32px;\n",
              "    padding: 0 0 0 0;\n",
              "    width: 32px;\n",
              "  }\n",
              "\n",
              "  .colab-df-quickchart:hover {\n",
              "    background-color: #E2EBFA;\n",
              "    box-shadow: 0px 1px 2px rgba(60, 64, 67, 0.3), 0px 1px 3px 1px rgba(60, 64, 67, 0.15);\n",
              "    fill: #174EA6;\n",
              "  }\n",
              "\n",
              "  [theme=dark] .colab-df-quickchart {\n",
              "    background-color: #3B4455;\n",
              "    fill: #D2E3FC;\n",
              "  }\n",
              "\n",
              "  [theme=dark] .colab-df-quickchart:hover {\n",
              "    background-color: #434B5C;\n",
              "    box-shadow: 0px 1px 3px 1px rgba(0, 0, 0, 0.15);\n",
              "    filter: drop-shadow(0px 1px 2px rgba(0, 0, 0, 0.3));\n",
              "    fill: #FFFFFF;\n",
              "  }\n",
              "</style>\n",
              "\n",
              "    <script>\n",
              "      async function quickchart(key) {\n",
              "        const containerElement = document.querySelector('#' + key);\n",
              "        const charts = await google.colab.kernel.invokeFunction(\n",
              "            'suggestCharts', [key], {});\n",
              "      }\n",
              "    </script>\n",
              "\n",
              "      <script>\n",
              "\n",
              "function displayQuickchartButton(domScope) {\n",
              "  let quickchartButtonEl =\n",
              "    domScope.querySelector('#df-744874e5-713c-4748-9985-78f9ff929ca5 button.colab-df-quickchart');\n",
              "  quickchartButtonEl.style.display =\n",
              "    google.colab.kernel.accessAllowed ? 'block' : 'none';\n",
              "}\n",
              "\n",
              "        displayQuickchartButton(document);\n",
              "      </script>\n",
              "      <style>\n",
              "    .colab-df-container {\n",
              "      display:flex;\n",
              "      flex-wrap:wrap;\n",
              "      gap: 12px;\n",
              "    }\n",
              "\n",
              "    .colab-df-convert {\n",
              "      background-color: #E8F0FE;\n",
              "      border: none;\n",
              "      border-radius: 50%;\n",
              "      cursor: pointer;\n",
              "      display: none;\n",
              "      fill: #1967D2;\n",
              "      height: 32px;\n",
              "      padding: 0 0 0 0;\n",
              "      width: 32px;\n",
              "    }\n",
              "\n",
              "    .colab-df-convert:hover {\n",
              "      background-color: #E2EBFA;\n",
              "      box-shadow: 0px 1px 2px rgba(60, 64, 67, 0.3), 0px 1px 3px 1px rgba(60, 64, 67, 0.15);\n",
              "      fill: #174EA6;\n",
              "    }\n",
              "\n",
              "    [theme=dark] .colab-df-convert {\n",
              "      background-color: #3B4455;\n",
              "      fill: #D2E3FC;\n",
              "    }\n",
              "\n",
              "    [theme=dark] .colab-df-convert:hover {\n",
              "      background-color: #434B5C;\n",
              "      box-shadow: 0px 1px 3px 1px rgba(0, 0, 0, 0.15);\n",
              "      filter: drop-shadow(0px 1px 2px rgba(0, 0, 0, 0.3));\n",
              "      fill: #FFFFFF;\n",
              "    }\n",
              "  </style>\n",
              "\n",
              "      <script>\n",
              "        const buttonEl =\n",
              "          document.querySelector('#df-5e91145d-eba4-4951-855c-14ebe0708fd2 button.colab-df-convert');\n",
              "        buttonEl.style.display =\n",
              "          google.colab.kernel.accessAllowed ? 'block' : 'none';\n",
              "\n",
              "        async function convertToInteractive(key) {\n",
              "          const element = document.querySelector('#df-5e91145d-eba4-4951-855c-14ebe0708fd2');\n",
              "          const dataTable =\n",
              "            await google.colab.kernel.invokeFunction('convertToInteractive',\n",
              "                                                     [key], {});\n",
              "          if (!dataTable) return;\n",
              "\n",
              "          const docLinkHtml = 'Like what you see? Visit the ' +\n",
              "            '<a target=\"_blank\" href=https://colab.research.google.com/notebooks/data_table.ipynb>data table notebook</a>'\n",
              "            + ' to learn more about interactive tables.';\n",
              "          element.innerHTML = '';\n",
              "          dataTable['output_type'] = 'display_data';\n",
              "          await google.colab.output.renderOutput(dataTable, element);\n",
              "          const docLink = document.createElement('div');\n",
              "          docLink.innerHTML = docLinkHtml;\n",
              "          element.appendChild(docLink);\n",
              "        }\n",
              "      </script>\n",
              "    </div>\n",
              "  </div>\n"
            ]
          },
          "metadata": {},
          "execution_count": 4
        }
      ],
      "source": [
        "print(\"The shape of the test data is: %d, %d\" % (test.shape[0],test.shape[1]))\n",
        "test.head()"
      ]
    },
    {
      "cell_type": "code",
      "execution_count": null,
      "id": "b56c2ef1",
      "metadata": {
        "id": "b56c2ef1",
        "colab": {
          "base_uri": "https://localhost:8080/"
        },
        "outputId": "4faf3781-cf1e-4f4d-894b-659aaaa75242"
      },
      "outputs": [
        {
          "output_type": "stream",
          "name": "stdout",
          "text": [
            "Duplicate Rows : 0\n"
          ]
        }
      ],
      "source": [
        "# Checking for Duplicate Rows in the training set\n",
        "duplicate_rows=train.duplicated().sum()\n",
        "print(\"Duplicate Rows :\", duplicate_rows)"
      ]
    },
    {
      "cell_type": "code",
      "execution_count": null,
      "id": "809c82e4",
      "metadata": {
        "id": "809c82e4"
      },
      "outputs": [],
      "source": [
        "def detectmissing(df):\n",
        "    summary = pd.DataFrame(df.dtypes,columns=['data type']).reset_index()\n",
        "    summary.rename(columns={'index':'features'}, inplace=True)\n",
        "    summary[\"Missing %\"]=df.isnull().sum().values/len(train)*100\n",
        "    return summary\n"
      ]
    },
    {
      "cell_type": "code",
      "execution_count": null,
      "id": "4ad83970",
      "metadata": {
        "id": "4ad83970"
      },
      "outputs": [],
      "source": [
        "# Replace string 'NaN' with NaN values\n",
        "train = train.replace('NaN', np.nan,regex=True)\n",
        "test = test.replace('NaN', np.nan,regex=True)\n"
      ]
    },
    {
      "cell_type": "code",
      "execution_count": null,
      "id": "4ecb3134",
      "metadata": {
        "id": "4ecb3134",
        "colab": {
          "base_uri": "https://localhost:8080/",
          "height": 676
        },
        "outputId": "32470833-2515-4a9b-94eb-e705786ab5cd"
      },
      "outputs": [
        {
          "output_type": "execute_result",
          "data": {
            "text/plain": [
              "                       features data type  Missing %\n",
              "0                            ID    object   0.000000\n",
              "1            Delivery_person_ID    object   0.000000\n",
              "2           Delivery_person_Age    object   4.066414\n",
              "3       Delivery_person_Ratings    object   4.184853\n",
              "4           Restaurant_latitude   float64   0.000000\n",
              "5          Restaurant_longitude   float64   0.000000\n",
              "6    Delivery_location_latitude   float64   0.000000\n",
              "7   Delivery_location_longitude   float64   0.000000\n",
              "8                    Order_Date    object   0.000000\n",
              "9                   Time_Orderd    object   3.796635\n",
              "10            Time_Order_picked    object   0.000000\n",
              "11            Weatherconditions    object   1.351085\n",
              "12         Road_traffic_density    object   1.318185\n",
              "13            Vehicle_condition     int64   0.000000\n",
              "14                Type_of_order    object   0.000000\n",
              "15              Type_of_vehicle    object   0.000000\n",
              "16          multiple_deliveries    object   2.177966\n",
              "17                     Festival    object   0.500077\n",
              "18                         City    object   2.631983\n",
              "19              Time_taken(min)    object   0.000000"
            ],
            "text/html": [
              "\n",
              "\n",
              "  <div id=\"df-fa13dc1a-b57f-48da-87e7-bf559e1642ac\">\n",
              "    <div class=\"colab-df-container\">\n",
              "      <div>\n",
              "<style scoped>\n",
              "    .dataframe tbody tr th:only-of-type {\n",
              "        vertical-align: middle;\n",
              "    }\n",
              "\n",
              "    .dataframe tbody tr th {\n",
              "        vertical-align: top;\n",
              "    }\n",
              "\n",
              "    .dataframe thead th {\n",
              "        text-align: right;\n",
              "    }\n",
              "</style>\n",
              "<table border=\"1\" class=\"dataframe\">\n",
              "  <thead>\n",
              "    <tr style=\"text-align: right;\">\n",
              "      <th></th>\n",
              "      <th>features</th>\n",
              "      <th>data type</th>\n",
              "      <th>Missing %</th>\n",
              "    </tr>\n",
              "  </thead>\n",
              "  <tbody>\n",
              "    <tr>\n",
              "      <th>0</th>\n",
              "      <td>ID</td>\n",
              "      <td>object</td>\n",
              "      <td>0.000000</td>\n",
              "    </tr>\n",
              "    <tr>\n",
              "      <th>1</th>\n",
              "      <td>Delivery_person_ID</td>\n",
              "      <td>object</td>\n",
              "      <td>0.000000</td>\n",
              "    </tr>\n",
              "    <tr>\n",
              "      <th>2</th>\n",
              "      <td>Delivery_person_Age</td>\n",
              "      <td>object</td>\n",
              "      <td>4.066414</td>\n",
              "    </tr>\n",
              "    <tr>\n",
              "      <th>3</th>\n",
              "      <td>Delivery_person_Ratings</td>\n",
              "      <td>object</td>\n",
              "      <td>4.184853</td>\n",
              "    </tr>\n",
              "    <tr>\n",
              "      <th>4</th>\n",
              "      <td>Restaurant_latitude</td>\n",
              "      <td>float64</td>\n",
              "      <td>0.000000</td>\n",
              "    </tr>\n",
              "    <tr>\n",
              "      <th>5</th>\n",
              "      <td>Restaurant_longitude</td>\n",
              "      <td>float64</td>\n",
              "      <td>0.000000</td>\n",
              "    </tr>\n",
              "    <tr>\n",
              "      <th>6</th>\n",
              "      <td>Delivery_location_latitude</td>\n",
              "      <td>float64</td>\n",
              "      <td>0.000000</td>\n",
              "    </tr>\n",
              "    <tr>\n",
              "      <th>7</th>\n",
              "      <td>Delivery_location_longitude</td>\n",
              "      <td>float64</td>\n",
              "      <td>0.000000</td>\n",
              "    </tr>\n",
              "    <tr>\n",
              "      <th>8</th>\n",
              "      <td>Order_Date</td>\n",
              "      <td>object</td>\n",
              "      <td>0.000000</td>\n",
              "    </tr>\n",
              "    <tr>\n",
              "      <th>9</th>\n",
              "      <td>Time_Orderd</td>\n",
              "      <td>object</td>\n",
              "      <td>3.796635</td>\n",
              "    </tr>\n",
              "    <tr>\n",
              "      <th>10</th>\n",
              "      <td>Time_Order_picked</td>\n",
              "      <td>object</td>\n",
              "      <td>0.000000</td>\n",
              "    </tr>\n",
              "    <tr>\n",
              "      <th>11</th>\n",
              "      <td>Weatherconditions</td>\n",
              "      <td>object</td>\n",
              "      <td>1.351085</td>\n",
              "    </tr>\n",
              "    <tr>\n",
              "      <th>12</th>\n",
              "      <td>Road_traffic_density</td>\n",
              "      <td>object</td>\n",
              "      <td>1.318185</td>\n",
              "    </tr>\n",
              "    <tr>\n",
              "      <th>13</th>\n",
              "      <td>Vehicle_condition</td>\n",
              "      <td>int64</td>\n",
              "      <td>0.000000</td>\n",
              "    </tr>\n",
              "    <tr>\n",
              "      <th>14</th>\n",
              "      <td>Type_of_order</td>\n",
              "      <td>object</td>\n",
              "      <td>0.000000</td>\n",
              "    </tr>\n",
              "    <tr>\n",
              "      <th>15</th>\n",
              "      <td>Type_of_vehicle</td>\n",
              "      <td>object</td>\n",
              "      <td>0.000000</td>\n",
              "    </tr>\n",
              "    <tr>\n",
              "      <th>16</th>\n",
              "      <td>multiple_deliveries</td>\n",
              "      <td>object</td>\n",
              "      <td>2.177966</td>\n",
              "    </tr>\n",
              "    <tr>\n",
              "      <th>17</th>\n",
              "      <td>Festival</td>\n",
              "      <td>object</td>\n",
              "      <td>0.500077</td>\n",
              "    </tr>\n",
              "    <tr>\n",
              "      <th>18</th>\n",
              "      <td>City</td>\n",
              "      <td>object</td>\n",
              "      <td>2.631983</td>\n",
              "    </tr>\n",
              "    <tr>\n",
              "      <th>19</th>\n",
              "      <td>Time_taken(min)</td>\n",
              "      <td>object</td>\n",
              "      <td>0.000000</td>\n",
              "    </tr>\n",
              "  </tbody>\n",
              "</table>\n",
              "</div>\n",
              "      <button class=\"colab-df-convert\" onclick=\"convertToInteractive('df-fa13dc1a-b57f-48da-87e7-bf559e1642ac')\"\n",
              "              title=\"Convert this dataframe to an interactive table.\"\n",
              "              style=\"display:none;\">\n",
              "\n",
              "  <svg xmlns=\"http://www.w3.org/2000/svg\" height=\"24px\"viewBox=\"0 0 24 24\"\n",
              "       width=\"24px\">\n",
              "    <path d=\"M0 0h24v24H0V0z\" fill=\"none\"/>\n",
              "    <path d=\"M18.56 5.44l.94 2.06.94-2.06 2.06-.94-2.06-.94-.94-2.06-.94 2.06-2.06.94zm-11 1L8.5 8.5l.94-2.06 2.06-.94-2.06-.94L8.5 2.5l-.94 2.06-2.06.94zm10 10l.94 2.06.94-2.06 2.06-.94-2.06-.94-.94-2.06-.94 2.06-2.06.94z\"/><path d=\"M17.41 7.96l-1.37-1.37c-.4-.4-.92-.59-1.43-.59-.52 0-1.04.2-1.43.59L10.3 9.45l-7.72 7.72c-.78.78-.78 2.05 0 2.83L4 21.41c.39.39.9.59 1.41.59.51 0 1.02-.2 1.41-.59l7.78-7.78 2.81-2.81c.8-.78.8-2.07 0-2.86zM5.41 20L4 18.59l7.72-7.72 1.47 1.35L5.41 20z\"/>\n",
              "  </svg>\n",
              "      </button>\n",
              "\n",
              "\n",
              "\n",
              "    <div id=\"df-97b38797-0701-4f47-a0ab-cb569ec87ac2\">\n",
              "      <button class=\"colab-df-quickchart\" onclick=\"quickchart('df-97b38797-0701-4f47-a0ab-cb569ec87ac2')\"\n",
              "              title=\"Suggest charts.\"\n",
              "              style=\"display:none;\">\n",
              "\n",
              "<svg xmlns=\"http://www.w3.org/2000/svg\" height=\"24px\"viewBox=\"0 0 24 24\"\n",
              "     width=\"24px\">\n",
              "    <g>\n",
              "        <path d=\"M19 3H5c-1.1 0-2 .9-2 2v14c0 1.1.9 2 2 2h14c1.1 0 2-.9 2-2V5c0-1.1-.9-2-2-2zM9 17H7v-7h2v7zm4 0h-2V7h2v10zm4 0h-2v-4h2v4z\"/>\n",
              "    </g>\n",
              "</svg>\n",
              "      </button>\n",
              "    </div>\n",
              "\n",
              "<style>\n",
              "  .colab-df-quickchart {\n",
              "    background-color: #E8F0FE;\n",
              "    border: none;\n",
              "    border-radius: 50%;\n",
              "    cursor: pointer;\n",
              "    display: none;\n",
              "    fill: #1967D2;\n",
              "    height: 32px;\n",
              "    padding: 0 0 0 0;\n",
              "    width: 32px;\n",
              "  }\n",
              "\n",
              "  .colab-df-quickchart:hover {\n",
              "    background-color: #E2EBFA;\n",
              "    box-shadow: 0px 1px 2px rgba(60, 64, 67, 0.3), 0px 1px 3px 1px rgba(60, 64, 67, 0.15);\n",
              "    fill: #174EA6;\n",
              "  }\n",
              "\n",
              "  [theme=dark] .colab-df-quickchart {\n",
              "    background-color: #3B4455;\n",
              "    fill: #D2E3FC;\n",
              "  }\n",
              "\n",
              "  [theme=dark] .colab-df-quickchart:hover {\n",
              "    background-color: #434B5C;\n",
              "    box-shadow: 0px 1px 3px 1px rgba(0, 0, 0, 0.15);\n",
              "    filter: drop-shadow(0px 1px 2px rgba(0, 0, 0, 0.3));\n",
              "    fill: #FFFFFF;\n",
              "  }\n",
              "</style>\n",
              "\n",
              "    <script>\n",
              "      async function quickchart(key) {\n",
              "        const containerElement = document.querySelector('#' + key);\n",
              "        const charts = await google.colab.kernel.invokeFunction(\n",
              "            'suggestCharts', [key], {});\n",
              "      }\n",
              "    </script>\n",
              "\n",
              "      <script>\n",
              "\n",
              "function displayQuickchartButton(domScope) {\n",
              "  let quickchartButtonEl =\n",
              "    domScope.querySelector('#df-97b38797-0701-4f47-a0ab-cb569ec87ac2 button.colab-df-quickchart');\n",
              "  quickchartButtonEl.style.display =\n",
              "    google.colab.kernel.accessAllowed ? 'block' : 'none';\n",
              "}\n",
              "\n",
              "        displayQuickchartButton(document);\n",
              "      </script>\n",
              "      <style>\n",
              "    .colab-df-container {\n",
              "      display:flex;\n",
              "      flex-wrap:wrap;\n",
              "      gap: 12px;\n",
              "    }\n",
              "\n",
              "    .colab-df-convert {\n",
              "      background-color: #E8F0FE;\n",
              "      border: none;\n",
              "      border-radius: 50%;\n",
              "      cursor: pointer;\n",
              "      display: none;\n",
              "      fill: #1967D2;\n",
              "      height: 32px;\n",
              "      padding: 0 0 0 0;\n",
              "      width: 32px;\n",
              "    }\n",
              "\n",
              "    .colab-df-convert:hover {\n",
              "      background-color: #E2EBFA;\n",
              "      box-shadow: 0px 1px 2px rgba(60, 64, 67, 0.3), 0px 1px 3px 1px rgba(60, 64, 67, 0.15);\n",
              "      fill: #174EA6;\n",
              "    }\n",
              "\n",
              "    [theme=dark] .colab-df-convert {\n",
              "      background-color: #3B4455;\n",
              "      fill: #D2E3FC;\n",
              "    }\n",
              "\n",
              "    [theme=dark] .colab-df-convert:hover {\n",
              "      background-color: #434B5C;\n",
              "      box-shadow: 0px 1px 3px 1px rgba(0, 0, 0, 0.15);\n",
              "      filter: drop-shadow(0px 1px 2px rgba(0, 0, 0, 0.3));\n",
              "      fill: #FFFFFF;\n",
              "    }\n",
              "  </style>\n",
              "\n",
              "      <script>\n",
              "        const buttonEl =\n",
              "          document.querySelector('#df-fa13dc1a-b57f-48da-87e7-bf559e1642ac button.colab-df-convert');\n",
              "        buttonEl.style.display =\n",
              "          google.colab.kernel.accessAllowed ? 'block' : 'none';\n",
              "\n",
              "        async function convertToInteractive(key) {\n",
              "          const element = document.querySelector('#df-fa13dc1a-b57f-48da-87e7-bf559e1642ac');\n",
              "          const dataTable =\n",
              "            await google.colab.kernel.invokeFunction('convertToInteractive',\n",
              "                                                     [key], {});\n",
              "          if (!dataTable) return;\n",
              "\n",
              "          const docLinkHtml = 'Like what you see? Visit the ' +\n",
              "            '<a target=\"_blank\" href=https://colab.research.google.com/notebooks/data_table.ipynb>data table notebook</a>'\n",
              "            + ' to learn more about interactive tables.';\n",
              "          element.innerHTML = '';\n",
              "          dataTable['output_type'] = 'display_data';\n",
              "          await google.colab.output.renderOutput(dataTable, element);\n",
              "          const docLink = document.createElement('div');\n",
              "          docLink.innerHTML = docLinkHtml;\n",
              "          element.appendChild(docLink);\n",
              "        }\n",
              "      </script>\n",
              "    </div>\n",
              "  </div>\n"
            ]
          },
          "metadata": {},
          "execution_count": 8
        }
      ],
      "source": [
        "data_missing=detectmissing(train)\n",
        "data_missing"
      ]
    },
    {
      "cell_type": "code",
      "execution_count": null,
      "id": "ee6e81d2",
      "metadata": {
        "id": "ee6e81d2"
      },
      "outputs": [],
      "source": [
        "train.dropna(inplace=True)\n",
        "for i in test.columns:\n",
        "    if test[i].dtypes=='int64' or test[i].dtypes=='float64':\n",
        "       test[i].fillna(train[i].median(),inplace=True)\n",
        "for i in test.columns:\n",
        "    if test[i].dtypes=='object':\n",
        "       test[i].fillna(train[i].mode()[0],inplace=True)"
      ]
    },
    {
      "cell_type": "code",
      "execution_count": null,
      "id": "2591ab14",
      "metadata": {
        "colab": {
          "base_uri": "https://localhost:8080/"
        },
        "id": "2591ab14",
        "outputId": "5d4ee113-c0b1-4acf-e48b-03cf06967f9c"
      },
      "outputs": [
        {
          "output_type": "execute_result",
          "data": {
            "text/plain": [
              "(41368, 20)"
            ]
          },
          "metadata": {},
          "execution_count": 10
        }
      ],
      "source": [
        "train.reset_index(drop=True,inplace=True)\n",
        "train.shape"
      ]
    },
    {
      "cell_type": "markdown",
      "id": "4ab123c2",
      "metadata": {
        "id": "4ab123c2"
      },
      "source": [
        "Since we are given the longitutde and latitudes of the restaurant and the delivery location hence using them we can calculate the distance between the restaurant and the destination"
      ]
    },
    {
      "cell_type": "markdown",
      "id": "6ad7f868",
      "metadata": {
        "id": "6ad7f868"
      },
      "source": [
        "For doing so we use the Haversine formula to calculates the distance between two points on the surface of a sphere (e.g., Earth)using their latitude and longitude."
      ]
    },
    {
      "cell_type": "code",
      "execution_count": null,
      "id": "d4716742",
      "metadata": {
        "id": "d4716742"
      },
      "outputs": [],
      "source": [
        "import math\n",
        "\n",
        "def calculate_distance(lat1, lon1, lat2, lon2):\n",
        "    # Convert degrees to radians\n",
        "    lat1 = math.radians(lat1)\n",
        "    lon1 = math.radians(lon1)\n",
        "    lat2 = math.radians(lat2)\n",
        "    lon2 = math.radians(lon2)\n",
        "\n",
        "    # Radius of the Earth in kilometers\n",
        "    radius = 6371\n",
        "\n",
        "    # Haversine formula\n",
        "    dlat = lat2 - lat1\n",
        "    dlon = lon2 - lon1\n",
        "    a = math.sin(dlat / 2) ** 2 + math.cos(lat1) * math.cos(lat2) * math.sin(dlon / 2) ** 2\n",
        "    dist = 2 * math.atan2(math.sqrt(a), math.sqrt(1 - a))\n",
        "    distance = radius * dist #to convert the angular distance into physical distance\n",
        "\n",
        "    return distance\n",
        "\n",
        "\n"
      ]
    },
    {
      "cell_type": "code",
      "execution_count": null,
      "id": "4ed01c3d",
      "metadata": {
        "id": "4ed01c3d"
      },
      "outputs": [],
      "source": [
        "# Calculate the distance between each pair of points for training data\n",
        "\n",
        "for i in range(len(train)):\n",
        "    train.loc[i, 'distance'] = calculate_distance(train.loc[i, 'Restaurant_latitude'],\n",
        "                                        train.loc[i, 'Restaurant_longitude'],\n",
        "                                        train.loc[i, 'Delivery_location_latitude'],\n",
        "                                        train.loc[i, 'Delivery_location_longitude'])\n",
        "train.drop(['Restaurant_latitude','Restaurant_longitude','Delivery_location_latitude','Delivery_location_longitude'],axis=1,inplace=True)"
      ]
    },
    {
      "cell_type": "code",
      "execution_count": null,
      "id": "8d95c6d8",
      "metadata": {
        "id": "8d95c6d8"
      },
      "outputs": [],
      "source": [
        "# Calculate the distance between each pair of points for testing data\n",
        "for i in range(len(test)):\n",
        "    test.loc[i, 'distance'] = calculate_distance(test.loc[i, 'Restaurant_latitude'],\n",
        "                                        test.loc[i, 'Restaurant_longitude'],\n",
        "                                        test.loc[i, 'Delivery_location_latitude'],\n",
        "                                        test.loc[i, 'Delivery_location_longitude'])\n",
        "test.drop(['Restaurant_latitude','Restaurant_longitude','Delivery_location_latitude','Delivery_location_longitude'],axis=1,inplace=True)"
      ]
    },
    {
      "cell_type": "code",
      "execution_count": null,
      "id": "85a03385",
      "metadata": {
        "colab": {
          "base_uri": "https://localhost:8080/",
          "height": 287
        },
        "id": "85a03385",
        "outputId": "3a10bb88-736f-40d0-97cb-8c5c44bca01e"
      },
      "outputs": [
        {
          "output_type": "execute_result",
          "data": {
            "text/plain": [
              "        ID Delivery_person_ID Delivery_person_Age Delivery_person_Ratings  \\\n",
              "0  0x4607     INDORES13DEL02                   37                     4.9   \n",
              "1  0xb379     BANGRES18DEL02                   34                     4.5   \n",
              "2  0x5d6d     BANGRES19DEL01                   23                     4.4   \n",
              "3  0x7a6a    COIMBRES13DEL02                   38                     4.7   \n",
              "4  0x70a2     CHENRES12DEL01                   32                     4.6   \n",
              "\n",
              "   Order_Date Time_Orderd Time_Order_picked      Weatherconditions  \\\n",
              "0  19-03-2022    11:30:00          11:45:00       conditions Sunny   \n",
              "1  25-03-2022    19:45:00          19:50:00      conditions Stormy   \n",
              "2  19-03-2022    08:30:00          08:45:00  conditions Sandstorms   \n",
              "3  05-04-2022    18:00:00          18:10:00       conditions Sunny   \n",
              "4  26-03-2022    13:30:00          13:45:00      conditions Cloudy   \n",
              "\n",
              "  Road_traffic_density  Vehicle_condition Type_of_order Type_of_vehicle  \\\n",
              "0                High                   2        Snack      motorcycle    \n",
              "1                 Jam                   2        Snack         scooter    \n",
              "2                 Low                   0       Drinks      motorcycle    \n",
              "3              Medium                   0       Buffet      motorcycle    \n",
              "4                High                   1        Snack         scooter    \n",
              "\n",
              "  multiple_deliveries Festival            City Time_taken(min)   distance  \n",
              "0                   0      No           Urban         (min) 24   3.025149  \n",
              "1                   1      No   Metropolitian         (min) 33  20.183530  \n",
              "2                   1      No           Urban         (min) 26   1.552758  \n",
              "3                   1      No   Metropolitian         (min) 21   7.790401  \n",
              "4                   1      No   Metropolitian         (min) 30   6.210138  "
            ],
            "text/html": [
              "\n",
              "\n",
              "  <div id=\"df-34ab7e60-988a-4a2f-b392-e4a13ebc96bb\">\n",
              "    <div class=\"colab-df-container\">\n",
              "      <div>\n",
              "<style scoped>\n",
              "    .dataframe tbody tr th:only-of-type {\n",
              "        vertical-align: middle;\n",
              "    }\n",
              "\n",
              "    .dataframe tbody tr th {\n",
              "        vertical-align: top;\n",
              "    }\n",
              "\n",
              "    .dataframe thead th {\n",
              "        text-align: right;\n",
              "    }\n",
              "</style>\n",
              "<table border=\"1\" class=\"dataframe\">\n",
              "  <thead>\n",
              "    <tr style=\"text-align: right;\">\n",
              "      <th></th>\n",
              "      <th>ID</th>\n",
              "      <th>Delivery_person_ID</th>\n",
              "      <th>Delivery_person_Age</th>\n",
              "      <th>Delivery_person_Ratings</th>\n",
              "      <th>Order_Date</th>\n",
              "      <th>Time_Orderd</th>\n",
              "      <th>Time_Order_picked</th>\n",
              "      <th>Weatherconditions</th>\n",
              "      <th>Road_traffic_density</th>\n",
              "      <th>Vehicle_condition</th>\n",
              "      <th>Type_of_order</th>\n",
              "      <th>Type_of_vehicle</th>\n",
              "      <th>multiple_deliveries</th>\n",
              "      <th>Festival</th>\n",
              "      <th>City</th>\n",
              "      <th>Time_taken(min)</th>\n",
              "      <th>distance</th>\n",
              "    </tr>\n",
              "  </thead>\n",
              "  <tbody>\n",
              "    <tr>\n",
              "      <th>0</th>\n",
              "      <td>0x4607</td>\n",
              "      <td>INDORES13DEL02</td>\n",
              "      <td>37</td>\n",
              "      <td>4.9</td>\n",
              "      <td>19-03-2022</td>\n",
              "      <td>11:30:00</td>\n",
              "      <td>11:45:00</td>\n",
              "      <td>conditions Sunny</td>\n",
              "      <td>High</td>\n",
              "      <td>2</td>\n",
              "      <td>Snack</td>\n",
              "      <td>motorcycle</td>\n",
              "      <td>0</td>\n",
              "      <td>No</td>\n",
              "      <td>Urban</td>\n",
              "      <td>(min) 24</td>\n",
              "      <td>3.025149</td>\n",
              "    </tr>\n",
              "    <tr>\n",
              "      <th>1</th>\n",
              "      <td>0xb379</td>\n",
              "      <td>BANGRES18DEL02</td>\n",
              "      <td>34</td>\n",
              "      <td>4.5</td>\n",
              "      <td>25-03-2022</td>\n",
              "      <td>19:45:00</td>\n",
              "      <td>19:50:00</td>\n",
              "      <td>conditions Stormy</td>\n",
              "      <td>Jam</td>\n",
              "      <td>2</td>\n",
              "      <td>Snack</td>\n",
              "      <td>scooter</td>\n",
              "      <td>1</td>\n",
              "      <td>No</td>\n",
              "      <td>Metropolitian</td>\n",
              "      <td>(min) 33</td>\n",
              "      <td>20.183530</td>\n",
              "    </tr>\n",
              "    <tr>\n",
              "      <th>2</th>\n",
              "      <td>0x5d6d</td>\n",
              "      <td>BANGRES19DEL01</td>\n",
              "      <td>23</td>\n",
              "      <td>4.4</td>\n",
              "      <td>19-03-2022</td>\n",
              "      <td>08:30:00</td>\n",
              "      <td>08:45:00</td>\n",
              "      <td>conditions Sandstorms</td>\n",
              "      <td>Low</td>\n",
              "      <td>0</td>\n",
              "      <td>Drinks</td>\n",
              "      <td>motorcycle</td>\n",
              "      <td>1</td>\n",
              "      <td>No</td>\n",
              "      <td>Urban</td>\n",
              "      <td>(min) 26</td>\n",
              "      <td>1.552758</td>\n",
              "    </tr>\n",
              "    <tr>\n",
              "      <th>3</th>\n",
              "      <td>0x7a6a</td>\n",
              "      <td>COIMBRES13DEL02</td>\n",
              "      <td>38</td>\n",
              "      <td>4.7</td>\n",
              "      <td>05-04-2022</td>\n",
              "      <td>18:00:00</td>\n",
              "      <td>18:10:00</td>\n",
              "      <td>conditions Sunny</td>\n",
              "      <td>Medium</td>\n",
              "      <td>0</td>\n",
              "      <td>Buffet</td>\n",
              "      <td>motorcycle</td>\n",
              "      <td>1</td>\n",
              "      <td>No</td>\n",
              "      <td>Metropolitian</td>\n",
              "      <td>(min) 21</td>\n",
              "      <td>7.790401</td>\n",
              "    </tr>\n",
              "    <tr>\n",
              "      <th>4</th>\n",
              "      <td>0x70a2</td>\n",
              "      <td>CHENRES12DEL01</td>\n",
              "      <td>32</td>\n",
              "      <td>4.6</td>\n",
              "      <td>26-03-2022</td>\n",
              "      <td>13:30:00</td>\n",
              "      <td>13:45:00</td>\n",
              "      <td>conditions Cloudy</td>\n",
              "      <td>High</td>\n",
              "      <td>1</td>\n",
              "      <td>Snack</td>\n",
              "      <td>scooter</td>\n",
              "      <td>1</td>\n",
              "      <td>No</td>\n",
              "      <td>Metropolitian</td>\n",
              "      <td>(min) 30</td>\n",
              "      <td>6.210138</td>\n",
              "    </tr>\n",
              "  </tbody>\n",
              "</table>\n",
              "</div>\n",
              "      <button class=\"colab-df-convert\" onclick=\"convertToInteractive('df-34ab7e60-988a-4a2f-b392-e4a13ebc96bb')\"\n",
              "              title=\"Convert this dataframe to an interactive table.\"\n",
              "              style=\"display:none;\">\n",
              "\n",
              "  <svg xmlns=\"http://www.w3.org/2000/svg\" height=\"24px\"viewBox=\"0 0 24 24\"\n",
              "       width=\"24px\">\n",
              "    <path d=\"M0 0h24v24H0V0z\" fill=\"none\"/>\n",
              "    <path d=\"M18.56 5.44l.94 2.06.94-2.06 2.06-.94-2.06-.94-.94-2.06-.94 2.06-2.06.94zm-11 1L8.5 8.5l.94-2.06 2.06-.94-2.06-.94L8.5 2.5l-.94 2.06-2.06.94zm10 10l.94 2.06.94-2.06 2.06-.94-2.06-.94-.94-2.06-.94 2.06-2.06.94z\"/><path d=\"M17.41 7.96l-1.37-1.37c-.4-.4-.92-.59-1.43-.59-.52 0-1.04.2-1.43.59L10.3 9.45l-7.72 7.72c-.78.78-.78 2.05 0 2.83L4 21.41c.39.39.9.59 1.41.59.51 0 1.02-.2 1.41-.59l7.78-7.78 2.81-2.81c.8-.78.8-2.07 0-2.86zM5.41 20L4 18.59l7.72-7.72 1.47 1.35L5.41 20z\"/>\n",
              "  </svg>\n",
              "      </button>\n",
              "\n",
              "\n",
              "\n",
              "    <div id=\"df-b27c4607-fc52-4c11-bb3e-e678c0d02f11\">\n",
              "      <button class=\"colab-df-quickchart\" onclick=\"quickchart('df-b27c4607-fc52-4c11-bb3e-e678c0d02f11')\"\n",
              "              title=\"Suggest charts.\"\n",
              "              style=\"display:none;\">\n",
              "\n",
              "<svg xmlns=\"http://www.w3.org/2000/svg\" height=\"24px\"viewBox=\"0 0 24 24\"\n",
              "     width=\"24px\">\n",
              "    <g>\n",
              "        <path d=\"M19 3H5c-1.1 0-2 .9-2 2v14c0 1.1.9 2 2 2h14c1.1 0 2-.9 2-2V5c0-1.1-.9-2-2-2zM9 17H7v-7h2v7zm4 0h-2V7h2v10zm4 0h-2v-4h2v4z\"/>\n",
              "    </g>\n",
              "</svg>\n",
              "      </button>\n",
              "    </div>\n",
              "\n",
              "<style>\n",
              "  .colab-df-quickchart {\n",
              "    background-color: #E8F0FE;\n",
              "    border: none;\n",
              "    border-radius: 50%;\n",
              "    cursor: pointer;\n",
              "    display: none;\n",
              "    fill: #1967D2;\n",
              "    height: 32px;\n",
              "    padding: 0 0 0 0;\n",
              "    width: 32px;\n",
              "  }\n",
              "\n",
              "  .colab-df-quickchart:hover {\n",
              "    background-color: #E2EBFA;\n",
              "    box-shadow: 0px 1px 2px rgba(60, 64, 67, 0.3), 0px 1px 3px 1px rgba(60, 64, 67, 0.15);\n",
              "    fill: #174EA6;\n",
              "  }\n",
              "\n",
              "  [theme=dark] .colab-df-quickchart {\n",
              "    background-color: #3B4455;\n",
              "    fill: #D2E3FC;\n",
              "  }\n",
              "\n",
              "  [theme=dark] .colab-df-quickchart:hover {\n",
              "    background-color: #434B5C;\n",
              "    box-shadow: 0px 1px 3px 1px rgba(0, 0, 0, 0.15);\n",
              "    filter: drop-shadow(0px 1px 2px rgba(0, 0, 0, 0.3));\n",
              "    fill: #FFFFFF;\n",
              "  }\n",
              "</style>\n",
              "\n",
              "    <script>\n",
              "      async function quickchart(key) {\n",
              "        const containerElement = document.querySelector('#' + key);\n",
              "        const charts = await google.colab.kernel.invokeFunction(\n",
              "            'suggestCharts', [key], {});\n",
              "      }\n",
              "    </script>\n",
              "\n",
              "      <script>\n",
              "\n",
              "function displayQuickchartButton(domScope) {\n",
              "  let quickchartButtonEl =\n",
              "    domScope.querySelector('#df-b27c4607-fc52-4c11-bb3e-e678c0d02f11 button.colab-df-quickchart');\n",
              "  quickchartButtonEl.style.display =\n",
              "    google.colab.kernel.accessAllowed ? 'block' : 'none';\n",
              "}\n",
              "\n",
              "        displayQuickchartButton(document);\n",
              "      </script>\n",
              "      <style>\n",
              "    .colab-df-container {\n",
              "      display:flex;\n",
              "      flex-wrap:wrap;\n",
              "      gap: 12px;\n",
              "    }\n",
              "\n",
              "    .colab-df-convert {\n",
              "      background-color: #E8F0FE;\n",
              "      border: none;\n",
              "      border-radius: 50%;\n",
              "      cursor: pointer;\n",
              "      display: none;\n",
              "      fill: #1967D2;\n",
              "      height: 32px;\n",
              "      padding: 0 0 0 0;\n",
              "      width: 32px;\n",
              "    }\n",
              "\n",
              "    .colab-df-convert:hover {\n",
              "      background-color: #E2EBFA;\n",
              "      box-shadow: 0px 1px 2px rgba(60, 64, 67, 0.3), 0px 1px 3px 1px rgba(60, 64, 67, 0.15);\n",
              "      fill: #174EA6;\n",
              "    }\n",
              "\n",
              "    [theme=dark] .colab-df-convert {\n",
              "      background-color: #3B4455;\n",
              "      fill: #D2E3FC;\n",
              "    }\n",
              "\n",
              "    [theme=dark] .colab-df-convert:hover {\n",
              "      background-color: #434B5C;\n",
              "      box-shadow: 0px 1px 3px 1px rgba(0, 0, 0, 0.15);\n",
              "      filter: drop-shadow(0px 1px 2px rgba(0, 0, 0, 0.3));\n",
              "      fill: #FFFFFF;\n",
              "    }\n",
              "  </style>\n",
              "\n",
              "      <script>\n",
              "        const buttonEl =\n",
              "          document.querySelector('#df-34ab7e60-988a-4a2f-b392-e4a13ebc96bb button.colab-df-convert');\n",
              "        buttonEl.style.display =\n",
              "          google.colab.kernel.accessAllowed ? 'block' : 'none';\n",
              "\n",
              "        async function convertToInteractive(key) {\n",
              "          const element = document.querySelector('#df-34ab7e60-988a-4a2f-b392-e4a13ebc96bb');\n",
              "          const dataTable =\n",
              "            await google.colab.kernel.invokeFunction('convertToInteractive',\n",
              "                                                     [key], {});\n",
              "          if (!dataTable) return;\n",
              "\n",
              "          const docLinkHtml = 'Like what you see? Visit the ' +\n",
              "            '<a target=\"_blank\" href=https://colab.research.google.com/notebooks/data_table.ipynb>data table notebook</a>'\n",
              "            + ' to learn more about interactive tables.';\n",
              "          element.innerHTML = '';\n",
              "          dataTable['output_type'] = 'display_data';\n",
              "          await google.colab.output.renderOutput(dataTable, element);\n",
              "          const docLink = document.createElement('div');\n",
              "          docLink.innerHTML = docLinkHtml;\n",
              "          element.appendChild(docLink);\n",
              "        }\n",
              "      </script>\n",
              "    </div>\n",
              "  </div>\n"
            ]
          },
          "metadata": {},
          "execution_count": 14
        }
      ],
      "source": [
        "pd.set_option('display.max_columns',None)\n",
        "train.head()"
      ]
    },
    {
      "cell_type": "code",
      "execution_count": null,
      "id": "1bde3857",
      "metadata": {
        "colab": {
          "base_uri": "https://localhost:8080/"
        },
        "id": "1bde3857",
        "outputId": "d9689fc4-7567-44fc-f2ad-55b0577452f5"
      },
      "outputs": [
        {
          "output_type": "execute_result",
          "data": {
            "text/plain": [
              "0    24\n",
              "1    33\n",
              "2    26\n",
              "3    21\n",
              "4    30\n",
              "Name: Time_taken(min), dtype: object"
            ]
          },
          "metadata": {},
          "execution_count": 15
        }
      ],
      "source": [
        "train['Time_taken(min)']=train['Time_taken(min)'].str.split(\" \", expand=True)[1]\n",
        "train['Time_taken(min)'].head()"
      ]
    },
    {
      "cell_type": "code",
      "execution_count": null,
      "id": "d00dbe39",
      "metadata": {
        "id": "d00dbe39"
      },
      "outputs": [],
      "source": [
        "train['Weatherconditions']=train['Weatherconditions'].str.split(\" \", expand=True)[1]\n",
        "test['Weatherconditions']=test['Weatherconditions'].str.split(\" \", expand=True)[1]"
      ]
    },
    {
      "cell_type": "code",
      "execution_count": null,
      "id": "7f0623b5",
      "metadata": {
        "scrolled": false,
        "colab": {
          "base_uri": "https://localhost:8080/"
        },
        "id": "7f0623b5",
        "outputId": "5668f9d5-00cf-4883-94be-5d50c3a753bd"
      },
      "outputs": [
        {
          "output_type": "execute_result",
          "data": {
            "text/plain": [
              "array(['Sunny', 'Stormy', 'Sandstorms', 'Cloudy', 'Fog', 'Windy'],\n",
              "      dtype=object)"
            ]
          },
          "metadata": {},
          "execution_count": 17
        }
      ],
      "source": [
        "train['Weatherconditions'].unique()"
      ]
    },
    {
      "cell_type": "code",
      "source": [
        "train['Time_taken(min)']=train['Time_taken(min)'].astype('float64')"
      ],
      "metadata": {
        "id": "ZFWMhAIAj7bI"
      },
      "id": "ZFWMhAIAj7bI",
      "execution_count": null,
      "outputs": []
    },
    {
      "cell_type": "code",
      "execution_count": null,
      "id": "e0239cff",
      "metadata": {
        "id": "e0239cff"
      },
      "outputs": [],
      "source": [
        "col1=['Delivery_person_Ratings','distance','Delivery_person_Age','Vehicle_condition','multiple_deliveries','Time_taken(min)']\n",
        "col2=['Delivery_person_Ratings','distance','Delivery_person_Age','Vehicle_condition','multiple_deliveries']\n",
        "for f in col1:\n",
        "    train[col1]=train[col1].astype('float64')\n",
        "\n",
        "for f in col2:\n",
        "    test[col2]=test[col2].astype('float64')"
      ]
    },
    {
      "cell_type": "code",
      "execution_count": null,
      "id": "71e91d4d",
      "metadata": {
        "scrolled": true,
        "colab": {
          "base_uri": "https://localhost:8080/"
        },
        "id": "71e91d4d",
        "outputId": "37b87890-7986-4c1b-8e70-6a7934bdf2ea"
      },
      "outputs": [
        {
          "output_type": "execute_result",
          "data": {
            "text/plain": [
              "ID                          object\n",
              "Delivery_person_ID          object\n",
              "Delivery_person_Age        float64\n",
              "Delivery_person_Ratings    float64\n",
              "Order_Date                  object\n",
              "Time_Orderd                 object\n",
              "Time_Order_picked           object\n",
              "Weatherconditions           object\n",
              "Road_traffic_density        object\n",
              "Vehicle_condition          float64\n",
              "Type_of_order               object\n",
              "Type_of_vehicle             object\n",
              "multiple_deliveries        float64\n",
              "Festival                    object\n",
              "City                        object\n",
              "Time_taken(min)            float64\n",
              "distance                   float64\n",
              "dtype: object"
            ]
          },
          "metadata": {},
          "execution_count": 20
        }
      ],
      "source": [
        "train.dtypes"
      ]
    },
    {
      "cell_type": "markdown",
      "source": [
        "# EDA"
      ],
      "metadata": {
        "id": "1Ry66uOZatDC"
      },
      "id": "1Ry66uOZatDC"
    },
    {
      "cell_type": "markdown",
      "source": [
        "# Information on variables"
      ],
      "metadata": {
        "id": "NmNHgXDia7zY"
      },
      "id": "NmNHgXDia7zY"
    },
    {
      "cell_type": "markdown",
      "source": [
        "1.ID: order ID number\n",
        "\n",
        "2.Delivery_person_ID: ID number of the delivery partner\n",
        "\n",
        "3.Delivery_person_Age: Age of the delivery partner\n",
        "\n",
        "4.Delivery_person_Ratings: ratings of the delivery partner based on past deliveries\n",
        "\n",
        "5.Restaurant_latitude: The latitude of the restaurant\n",
        "\n",
        "6.Restaurant_longitude: The longitude of the restaurant\n",
        "\n",
        "7.Delivery_location_latitude: The latitude of the delivery location\n",
        "\n",
        "8.Delivery_location_longitude: The longitude of the delivery location\n",
        "\n",
        "9.Type_of_order: The type of meal ordered by the customer\n",
        "\n",
        "10.Type_of_vehicle: The type of vehicle delivery partner rides\n",
        "\n",
        "11.Time_taken(min): The time taken by the delivery partner to complete the order"
      ],
      "metadata": {
        "id": "LIGKnT56atNH"
      },
      "id": "LIGKnT56atNH"
    },
    {
      "cell_type": "code",
      "source": [
        "sns.distplot(train['Time_taken(min)'],color='y')"
      ],
      "metadata": {
        "colab": {
          "base_uri": "https://localhost:8080/",
          "height": 467
        },
        "id": "CdVHFSMxZSvc",
        "outputId": "c334bf55-6747-4944-aab7-bf150f7a2583"
      },
      "id": "CdVHFSMxZSvc",
      "execution_count": null,
      "outputs": [
        {
          "output_type": "execute_result",
          "data": {
            "text/plain": [
              "<Axes: xlabel='Time_taken(min)', ylabel='Density'>"
            ]
          },
          "metadata": {},
          "execution_count": 21
        },
        {
          "output_type": "display_data",
          "data": {
            "text/plain": [
              "<Figure size 640x480 with 1 Axes>"
            ],
            "image/png": "[encoded data removed]"
          },
          "metadata": {}
        }
      ]
    },
    {
      "cell_type": "markdown",
      "source": [
        "In order to use linear regression we had to check the distribution of the target variable as for applying linear regression the target variable should be normally distributed. And over here we can clearly see that over here it is not representing a bell shape moreover it is showing a skewed data."
      ],
      "metadata": {
        "id": "U0AneeiHaBqn"
      },
      "id": "U0AneeiHaBqn"
    },
    {
      "cell_type": "code",
      "execution_count": null,
      "id": "88752918",
      "metadata": {
        "colab": {
          "base_uri": "https://localhost:8080/",
          "height": 651
        },
        "id": "88752918",
        "outputId": "33e27f73-dd7d-4110-b641-6cfe782d9d1b"
      },
      "outputs": [
        {
          "output_type": "execute_result",
          "data": {
            "text/plain": [
              "Text(0.5, 1.0, 'Boxplots of Time taken by Age ')"
            ]
          },
          "metadata": {},
          "execution_count": 22
        },
        {
          "output_type": "display_data",
          "data": {
            "text/plain": [
              "<Figure size 1800x900 with 1 Axes>"
            ],
            "image/png": "[encoded data removed]"
          },
          "metadata": {}
        }
      ],
      "source": [
        "plt.figure(figsize=(18,9))\n",
        "sns.boxplot(x='Delivery_person_Age', y='Time_taken(min)',data=train)\n",
        "plt.xlabel('Age')\n",
        "plt.ylabel('Time')\n",
        "plt.title('Boxplots of Time taken by Age ')"
      ]
    },
    {
      "cell_type": "code",
      "execution_count": null,
      "id": "75449dbe",
      "metadata": {
        "scrolled": false,
        "colab": {
          "base_uri": "https://localhost:8080/",
          "height": 651
        },
        "id": "75449dbe",
        "outputId": "3f08b459-d255-4939-8c4d-febfa649cebf"
      },
      "outputs": [
        {
          "output_type": "execute_result",
          "data": {
            "text/plain": [
              "Text(0.5, 1.0, 'Boxplots of Time taken by ratings')"
            ]
          },
          "metadata": {},
          "execution_count": 23
        },
        {
          "output_type": "display_data",
          "data": {
            "text/plain": [
              "<Figure size 1800x900 with 1 Axes>"
            ],
            "image/png": "[encoded data removed]"
          },
          "metadata": {}
        }
      ],
      "source": [
        "plt.figure(figsize=(18,9))\n",
        "sns.boxplot(x='Delivery_person_Ratings', y='Time_taken(min)', data=train,palette='husl')\n",
        "plt.xlabel('Ratings')\n",
        "plt.ylabel('Time')\n",
        "plt.title('Boxplots of Time taken by ratings')"
      ]
    },
    {
      "cell_type": "markdown",
      "id": "f64e9426",
      "metadata": {
        "id": "f64e9426"
      },
      "source": [
        "We can notice that if the delivery is taken by a person having delivery rating more than 4.4, the time taken to deliver is significantly lower."
      ]
    },
    {
      "cell_type": "code",
      "execution_count": null,
      "id": "84172b7b",
      "metadata": {
        "id": "84172b7b"
      },
      "outputs": [],
      "source": [
        "# Convert 'Date' column to datetime format\n",
        "train['Order_Date']=pd.to_datetime(train['Order_Date'],format=\"%d-%m-%Y\")\n",
        "test['Order_Date']=pd.to_datetime(test['Order_Date'],format=\"%d-%m-%Y\")"
      ]
    },
    {
      "cell_type": "code",
      "execution_count": null,
      "id": "8f6deca0",
      "metadata": {
        "colab": {
          "base_uri": "https://localhost:8080/"
        },
        "id": "8f6deca0",
        "outputId": "49ac692b-7fc6-4479-9cd6-7977d50b9720"
      },
      "outputs": [
        {
          "output_type": "stream",
          "name": "stdout",
          "text": [
            "datetime64[ns]\n"
          ]
        }
      ],
      "source": [
        "print(train['Order_Date'].dtype)"
      ]
    },
    {
      "cell_type": "code",
      "execution_count": null,
      "id": "e0e1913d",
      "metadata": {
        "id": "e0e1913d"
      },
      "outputs": [],
      "source": [
        "# Calculate the day of the week using 'dt.dayofweek'\n",
        "train['DayOfWeek'] = train['Order_Date'].dt.day_name()\n",
        "test['DayOfWeek'] = test['Order_Date'].dt.day_name()"
      ]
    },
    {
      "cell_type": "code",
      "execution_count": null,
      "id": "2364d7aa",
      "metadata": {
        "colab": {
          "base_uri": "https://localhost:8080/",
          "height": 489
        },
        "id": "2364d7aa",
        "outputId": "879072a3-9465-4576-a343-0cefc73cd5ad"
      },
      "outputs": [
        {
          "output_type": "execute_result",
          "data": {
            "text/plain": [
              "Text(0.5, 1.0, 'Time taken by different days of a week')"
            ]
          },
          "metadata": {},
          "execution_count": 27
        },
        {
          "output_type": "display_data",
          "data": {
            "text/plain": [
              "<Figure size 640x480 with 1 Axes>"
            ],
            "image/png": "[encoded data removed]"
          },
          "metadata": {}
        }
      ],
      "source": [
        "df=train.groupby('DayOfWeek')['Time_taken(min)'].mean().rename('Average Time Taken').reset_index()\n",
        "sns.barplot(x='DayOfWeek', y='Time_taken(min)', data=train,palette='husl')\n",
        "plt.xlabel('Day')\n",
        "plt.ylabel('Time')\n",
        "plt.title('Time taken by different days of a week')"
      ]
    },
    {
      "cell_type": "code",
      "source": [
        "# Calculate the day of the week using 'dt.dayofweek'\n",
        "train['month'] = train['Order_Date'].dt.month_name()\n",
        "test['month'] = test['Order_Date'].dt.month_name()"
      ],
      "metadata": {
        "id": "QUHRsnpKAnFv"
      },
      "id": "QUHRsnpKAnFv",
      "execution_count": null,
      "outputs": []
    },
    {
      "cell_type": "code",
      "source": [
        "df=train.groupby('month')['Time_taken(min)'].mean().rename('Average Time Taken').reset_index()\n",
        "sns.barplot(x='month', y='Time_taken(min)', data=train,palette='husl')\n",
        "plt.xlabel('Months')\n",
        "plt.ylabel('Time')\n",
        "plt.title('Time taken by different month')"
      ],
      "metadata": {
        "id": "GDdtXvQxbXn1",
        "colab": {
          "base_uri": "https://localhost:8080/",
          "height": 489
        },
        "outputId": "663745cc-c8ca-47c5-fb8c-f33be468f375"
      },
      "id": "GDdtXvQxbXn1",
      "execution_count": null,
      "outputs": [
        {
          "output_type": "execute_result",
          "data": {
            "text/plain": [
              "Text(0.5, 1.0, 'Time taken by different month')"
            ]
          },
          "metadata": {},
          "execution_count": 29
        },
        {
          "output_type": "display_data",
          "data": {
            "text/plain": [
              "<Figure size 640x480 with 1 Axes>"
            ],
            "image/png": "[encoded data removed]"
          },
          "metadata": {}
        }
      ]
    },
    {
      "cell_type": "code",
      "execution_count": null,
      "id": "54203725",
      "metadata": {
        "id": "54203725"
      },
      "outputs": [],
      "source": [
        "# Convert 'Time ordered' column to datetime format\n",
        "train['Time_Orderd']=pd.to_datetime(train['Time_Orderd'])\n",
        "test['Time_Orderd']=pd.to_datetime(test['Time_Orderd'])"
      ]
    },
    {
      "cell_type": "code",
      "execution_count": null,
      "id": "cb19ed2b",
      "metadata": {
        "colab": {
          "base_uri": "https://localhost:8080/"
        },
        "id": "cb19ed2b",
        "outputId": "bc007344-7201-4682-b14d-7d3beafe9ac5"
      },
      "outputs": [
        {
          "output_type": "stream",
          "name": "stdout",
          "text": [
            "datetime64[ns]\n"
          ]
        }
      ],
      "source": [
        "print(train['Time_Orderd'].dtype)"
      ]
    },
    {
      "cell_type": "code",
      "execution_count": null,
      "id": "b7c08c92",
      "metadata": {
        "id": "b7c08c92"
      },
      "outputs": [],
      "source": [
        "train['Hour'] = train['Time_Orderd'].dt.hour\n",
        "test['Hour'] = test['Time_Orderd'].dt.hour"
      ]
    },
    {
      "cell_type": "code",
      "execution_count": null,
      "id": "42d5b7c9",
      "metadata": {
        "id": "42d5b7c9"
      },
      "outputs": [],
      "source": [
        "df=train.groupby('Hour')['Time_taken(min)'].mean().rename('Average Time Taken').reset_index().sort_values('Average Time Taken',ascending=False)\n"
      ]
    },
    {
      "cell_type": "code",
      "execution_count": null,
      "id": "8477e139",
      "metadata": {
        "colab": {
          "base_uri": "https://localhost:8080/",
          "height": 651
        },
        "id": "8477e139",
        "outputId": "9f513c06-8208-4f7b-ee25-e9fce19c0130"
      },
      "outputs": [
        {
          "output_type": "execute_result",
          "data": {
            "text/plain": [
              "Text(0.5, 1.0, 'Time taken by hours of a day')"
            ]
          },
          "metadata": {},
          "execution_count": 34
        },
        {
          "output_type": "display_data",
          "data": {
            "text/plain": [
              "<Figure size 1800x900 with 1 Axes>"
            ],
            "image/png": "[encoded data removed]"
          },
          "metadata": {}
        }
      ],
      "source": [
        "plt.figure(figsize=(18,9))\n",
        "sns.barplot(x='Hour', y='Time_taken(min)', data=train,palette='husl')\n",
        "plt.xlabel('Hour of the day')\n",
        "plt.ylabel('Time')\n",
        "plt.title('Time taken by hours of a day')"
      ]
    },
    {
      "cell_type": "code",
      "execution_count": null,
      "id": "dc3d8719",
      "metadata": {
        "colab": {
          "base_uri": "https://localhost:8080/",
          "height": 489
        },
        "id": "dc3d8719",
        "outputId": "6abcd46e-8607-4d40-e5de-cb8ff7672ead"
      },
      "outputs": [
        {
          "output_type": "execute_result",
          "data": {
            "text/plain": [
              "Text(0.5, 1.0, 'Boxplots of Time taken by weather')"
            ]
          },
          "metadata": {},
          "execution_count": 35
        },
        {
          "output_type": "display_data",
          "data": {
            "text/plain": [
              "<Figure size 640x480 with 1 Axes>"
            ],
            "image/png": "[encoded data removed]"
          },
          "metadata": {}
        }
      ],
      "source": [
        "sns.boxplot(x='Weatherconditions', y='Time_taken(min)', data=train,palette='husl')\n",
        "plt.xlabel('weather')\n",
        "plt.ylabel('Time')\n",
        "plt.title('Boxplots of Time taken by weather')"
      ]
    },
    {
      "cell_type": "markdown",
      "id": "6aabc53e",
      "metadata": {
        "id": "6aabc53e"
      },
      "source": [
        "We can see that the different weathers clearly affect the delivery time."
      ]
    },
    {
      "cell_type": "code",
      "execution_count": null,
      "id": "196a74d6",
      "metadata": {
        "colab": {
          "base_uri": "https://localhost:8080/",
          "height": 489
        },
        "id": "196a74d6",
        "outputId": "80a3d033-1a93-4c0d-c0cb-55b24cbe78c3"
      },
      "outputs": [
        {
          "output_type": "execute_result",
          "data": {
            "text/plain": [
              "Text(0.5, 1.0, 'Boxplots of Time taken by trafic density')"
            ]
          },
          "metadata": {},
          "execution_count": 36
        },
        {
          "output_type": "display_data",
          "data": {
            "text/plain": [
              "<Figure size 640x480 with 1 Axes>"
            ],
            "image/png": "[encoded data removed]"
          },
          "metadata": {}
        }
      ],
      "source": [
        "sns.boxplot(x='Road_traffic_density', y='Time_taken(min)', data=train,palette='husl')\n",
        "plt.xlabel('traffic density')\n",
        "plt.ylabel('Time')\n",
        "plt.title('Boxplots of Time taken by trafic density')"
      ]
    },
    {
      "cell_type": "code",
      "execution_count": null,
      "id": "efb0cd21",
      "metadata": {
        "colab": {
          "base_uri": "https://localhost:8080/",
          "height": 489
        },
        "id": "efb0cd21",
        "outputId": "3d84133c-9be7-4a4c-9bc4-db220a4a1010"
      },
      "outputs": [
        {
          "output_type": "execute_result",
          "data": {
            "text/plain": [
              "Text(0.5, 1.0, 'Boxplots of Time taken by different vehicle conditions')"
            ]
          },
          "metadata": {},
          "execution_count": 37
        },
        {
          "output_type": "display_data",
          "data": {
            "text/plain": [
              "<Figure size 640x480 with 1 Axes>"
            ],
            "image/png": "[encoded data removed]"
          },
          "metadata": {}
        }
      ],
      "source": [
        "sns.boxplot(x='Vehicle_condition', y='Time_taken(min)',data=train,palette='husl')\n",
        "plt.xlabel('Vechile Condition')\n",
        "plt.ylabel('Time')\n",
        "plt.title('Boxplots of Time taken by different vehicle conditions')"
      ]
    },
    {
      "cell_type": "code",
      "execution_count": null,
      "id": "ddeaecf0",
      "metadata": {
        "colab": {
          "base_uri": "https://localhost:8080/",
          "height": 651
        },
        "id": "ddeaecf0",
        "outputId": "2c62478e-09cd-4cae-a626-9efa86724f9c"
      },
      "outputs": [
        {
          "output_type": "execute_result",
          "data": {
            "text/plain": [
              "Text(0.5, 1.0, 'Boxplots of Time taken by type of vechile used')"
            ]
          },
          "metadata": {},
          "execution_count": 38
        },
        {
          "output_type": "display_data",
          "data": {
            "text/plain": [
              "<Figure size 1800x900 with 1 Axes>"
            ],
            "image/png": "[encoded data removed]"
          },
          "metadata": {}
        }
      ],
      "source": [
        "plt.figure(figsize=(18,9))\n",
        "sns.boxplot(x='Type_of_vehicle', y='Time_taken(min)',hue='Type_of_order', data=train,palette='husl')\n",
        "plt.xlabel('Type of vechile')\n",
        "plt.ylabel('Time')\n",
        "plt.title('Boxplots of Time taken by type of vechile used')"
      ]
    },
    {
      "cell_type": "code",
      "execution_count": null,
      "id": "48d5b69a",
      "metadata": {
        "colab": {
          "base_uri": "https://localhost:8080/",
          "height": 489
        },
        "id": "48d5b69a",
        "outputId": "6b79fe84-6575-459f-c92b-b60fb6d82317"
      },
      "outputs": [
        {
          "output_type": "execute_result",
          "data": {
            "text/plain": [
              "Text(0.5, 1.0, 'Boxplots of Time taken by multiple deliveries')"
            ]
          },
          "metadata": {},
          "execution_count": 39
        },
        {
          "output_type": "display_data",
          "data": {
            "text/plain": [
              "<Figure size 640x480 with 1 Axes>"
            ],
            "image/png": "[encoded data removed]"
          },
          "metadata": {}
        }
      ],
      "source": [
        "\n",
        "sns.boxplot(x='multiple_deliveries', y='Time_taken(min)',data=train,palette='husl')\n",
        "plt.xlabel('multiple deliveries')\n",
        "plt.ylabel('Time')\n",
        "plt.title('Boxplots of Time taken by multiple deliveries')"
      ]
    },
    {
      "cell_type": "code",
      "execution_count": null,
      "id": "e53511f1",
      "metadata": {
        "scrolled": false,
        "colab": {
          "base_uri": "https://localhost:8080/",
          "height": 489
        },
        "id": "e53511f1",
        "outputId": "c85afa10-d0d3-426f-cd77-790ecb3ab89f"
      },
      "outputs": [
        {
          "output_type": "execute_result",
          "data": {
            "text/plain": [
              "Text(0.5, 1.0, 'Boxplots of Time taken by city')"
            ]
          },
          "metadata": {},
          "execution_count": 40
        },
        {
          "output_type": "display_data",
          "data": {
            "text/plain": [
              "<Figure size 640x480 with 1 Axes>"
            ],
            "image/png": "[encoded data removed]"
          },
          "metadata": {}
        }
      ],
      "source": [
        "sns.boxplot(x='City', y='Time_taken(min)',hue='Festival',data=train,palette='husl')\n",
        "plt.xlabel('city')\n",
        "plt.ylabel('Time')\n",
        "plt.title('Boxplots of Time taken by city')"
      ]
    },
    {
      "cell_type": "markdown",
      "id": "b7872936",
      "metadata": {
        "id": "b7872936"
      },
      "source": [
        "We can notice that in all type of cities a festival on a particular day definitely increases the delivery time but in the sem-urban cities even on the days where there is no festival, the delivery time is quite high."
      ]
    },
    {
      "cell_type": "markdown",
      "id": "0395b108",
      "metadata": {
        "id": "0395b108"
      },
      "source": [
        "# Encoding categorical variables:"
      ]
    },
    {
      "cell_type": "code",
      "execution_count": null,
      "id": "97e15a8b",
      "metadata": {
        "id": "97e15a8b"
      },
      "outputs": [],
      "source": [
        "target=train['Time_taken(min)']\n",
        "ID=test['ID']\n",
        "train.drop(['ID','Delivery_person_ID','Order_Date','Time_Orderd','Time_Order_picked','Time_taken(min)','Type_of_order','month'],axis=1,inplace=True)\n",
        "test.drop(['ID','Delivery_person_ID','Order_Date','Time_Orderd','Time_Order_picked','Type_of_order','month'],axis=1,inplace=True)"
      ]
    },
    {
      "cell_type": "code",
      "source": [
        "train.head()"
      ],
      "metadata": {
        "colab": {
          "base_uri": "https://localhost:8080/",
          "height": 270
        },
        "id": "-Vi51H-xpuuJ",
        "outputId": "888a2114-bf7e-4ee2-ebfb-7ca70c905428"
      },
      "id": "-Vi51H-xpuuJ",
      "execution_count": null,
      "outputs": [
        {
          "output_type": "execute_result",
          "data": {
            "text/plain": [
              "   Delivery_person_Age  Delivery_person_Ratings Weatherconditions  \\\n",
              "0                 37.0                      4.9             Sunny   \n",
              "1                 34.0                      4.5            Stormy   \n",
              "2                 23.0                      4.4        Sandstorms   \n",
              "3                 38.0                      4.7             Sunny   \n",
              "4                 32.0                      4.6            Cloudy   \n",
              "\n",
              "  Road_traffic_density  Vehicle_condition Type_of_vehicle  \\\n",
              "0                High                 2.0     motorcycle    \n",
              "1                 Jam                 2.0        scooter    \n",
              "2                 Low                 0.0     motorcycle    \n",
              "3              Medium                 0.0     motorcycle    \n",
              "4                High                 1.0        scooter    \n",
              "\n",
              "   multiple_deliveries Festival            City   distance DayOfWeek  Hour  \n",
              "0                  0.0      No           Urban    3.025149  Saturday    11  \n",
              "1                  1.0      No   Metropolitian   20.183530    Friday    19  \n",
              "2                  1.0      No           Urban    1.552758  Saturday     8  \n",
              "3                  1.0      No   Metropolitian    7.790401   Tuesday    18  \n",
              "4                  1.0      No   Metropolitian    6.210138  Saturday    13  "
            ],
            "text/html": [
              "\n",
              "\n",
              "  <div id=\"df-06cfe2e2-00d5-4c2e-b3da-9bb03bd04436\">\n",
              "    <div class=\"colab-df-container\">\n",
              "      <div>\n",
              "<style scoped>\n",
              "    .dataframe tbody tr th:only-of-type {\n",
              "        vertical-align: middle;\n",
              "    }\n",
              "\n",
              "    .dataframe tbody tr th {\n",
              "        vertical-align: top;\n",
              "    }\n",
              "\n",
              "    .dataframe thead th {\n",
              "        text-align: right;\n",
              "    }\n",
              "</style>\n",
              "<table border=\"1\" class=\"dataframe\">\n",
              "  <thead>\n",
              "    <tr style=\"text-align: right;\">\n",
              "      <th></th>\n",
              "      <th>Delivery_person_Age</th>\n",
              "      <th>Delivery_person_Ratings</th>\n",
              "      <th>Weatherconditions</th>\n",
              "      <th>Road_traffic_density</th>\n",
              "      <th>Vehicle_condition</th>\n",
              "      <th>Type_of_vehicle</th>\n",
              "      <th>multiple_deliveries</th>\n",
              "      <th>Festival</th>\n",
              "      <th>City</th>\n",
              "      <th>distance</th>\n",
              "      <th>DayOfWeek</th>\n",
              "      <th>Hour</th>\n",
              "    </tr>\n",
              "  </thead>\n",
              "  <tbody>\n",
              "    <tr>\n",
              "      <th>0</th>\n",
              "      <td>37.0</td>\n",
              "      <td>4.9</td>\n",
              "      <td>Sunny</td>\n",
              "      <td>High</td>\n",
              "      <td>2.0</td>\n",
              "      <td>motorcycle</td>\n",
              "      <td>0.0</td>\n",
              "      <td>No</td>\n",
              "      <td>Urban</td>\n",
              "      <td>3.025149</td>\n",
              "      <td>Saturday</td>\n",
              "      <td>11</td>\n",
              "    </tr>\n",
              "    <tr>\n",
              "      <th>1</th>\n",
              "      <td>34.0</td>\n",
              "      <td>4.5</td>\n",
              "      <td>Stormy</td>\n",
              "      <td>Jam</td>\n",
              "      <td>2.0</td>\n",
              "      <td>scooter</td>\n",
              "      <td>1.0</td>\n",
              "      <td>No</td>\n",
              "      <td>Metropolitian</td>\n",
              "      <td>20.183530</td>\n",
              "      <td>Friday</td>\n",
              "      <td>19</td>\n",
              "    </tr>\n",
              "    <tr>\n",
              "      <th>2</th>\n",
              "      <td>23.0</td>\n",
              "      <td>4.4</td>\n",
              "      <td>Sandstorms</td>\n",
              "      <td>Low</td>\n",
              "      <td>0.0</td>\n",
              "      <td>motorcycle</td>\n",
              "      <td>1.0</td>\n",
              "      <td>No</td>\n",
              "      <td>Urban</td>\n",
              "      <td>1.552758</td>\n",
              "      <td>Saturday</td>\n",
              "      <td>8</td>\n",
              "    </tr>\n",
              "    <tr>\n",
              "      <th>3</th>\n",
              "      <td>38.0</td>\n",
              "      <td>4.7</td>\n",
              "      <td>Sunny</td>\n",
              "      <td>Medium</td>\n",
              "      <td>0.0</td>\n",
              "      <td>motorcycle</td>\n",
              "      <td>1.0</td>\n",
              "      <td>No</td>\n",
              "      <td>Metropolitian</td>\n",
              "      <td>7.790401</td>\n",
              "      <td>Tuesday</td>\n",
              "      <td>18</td>\n",
              "    </tr>\n",
              "    <tr>\n",
              "      <th>4</th>\n",
              "      <td>32.0</td>\n",
              "      <td>4.6</td>\n",
              "      <td>Cloudy</td>\n",
              "      <td>High</td>\n",
              "      <td>1.0</td>\n",
              "      <td>scooter</td>\n",
              "      <td>1.0</td>\n",
              "      <td>No</td>\n",
              "      <td>Metropolitian</td>\n",
              "      <td>6.210138</td>\n",
              "      <td>Saturday</td>\n",
              "      <td>13</td>\n",
              "    </tr>\n",
              "  </tbody>\n",
              "</table>\n",
              "</div>\n",
              "      <button class=\"colab-df-convert\" onclick=\"convertToInteractive('df-06cfe2e2-00d5-4c2e-b3da-9bb03bd04436')\"\n",
              "              title=\"Convert this dataframe to an interactive table.\"\n",
              "              style=\"display:none;\">\n",
              "\n",
              "  <svg xmlns=\"http://www.w3.org/2000/svg\" height=\"24px\"viewBox=\"0 0 24 24\"\n",
              "       width=\"24px\">\n",
              "    <path d=\"M0 0h24v24H0V0z\" fill=\"none\"/>\n",
              "    <path d=\"M18.56 5.44l.94 2.06.94-2.06 2.06-.94-2.06-.94-.94-2.06-.94 2.06-2.06.94zm-11 1L8.5 8.5l.94-2.06 2.06-.94-2.06-.94L8.5 2.5l-.94 2.06-2.06.94zm10 10l.94 2.06.94-2.06 2.06-.94-2.06-.94-.94-2.06-.94 2.06-2.06.94z\"/><path d=\"M17.41 7.96l-1.37-1.37c-.4-.4-.92-.59-1.43-.59-.52 0-1.04.2-1.43.59L10.3 9.45l-7.72 7.72c-.78.78-.78 2.05 0 2.83L4 21.41c.39.39.9.59 1.41.59.51 0 1.02-.2 1.41-.59l7.78-7.78 2.81-2.81c.8-.78.8-2.07 0-2.86zM5.41 20L4 18.59l7.72-7.72 1.47 1.35L5.41 20z\"/>\n",
              "  </svg>\n",
              "      </button>\n",
              "\n",
              "\n",
              "\n",
              "    <div id=\"df-523ed8c3-3b0e-41d8-9a86-f3f416ca10ff\">\n",
              "      <button class=\"colab-df-quickchart\" onclick=\"quickchart('df-523ed8c3-3b0e-41d8-9a86-f3f416ca10ff')\"\n",
              "              title=\"Suggest charts.\"\n",
              "              style=\"display:none;\">\n",
              "\n",
              "<svg xmlns=\"http://www.w3.org/2000/svg\" height=\"24px\"viewBox=\"0 0 24 24\"\n",
              "     width=\"24px\">\n",
              "    <g>\n",
              "        <path d=\"M19 3H5c-1.1 0-2 .9-2 2v14c0 1.1.9 2 2 2h14c1.1 0 2-.9 2-2V5c0-1.1-.9-2-2-2zM9 17H7v-7h2v7zm4 0h-2V7h2v10zm4 0h-2v-4h2v4z\"/>\n",
              "    </g>\n",
              "</svg>\n",
              "      </button>\n",
              "    </div>\n",
              "\n",
              "<style>\n",
              "  .colab-df-quickchart {\n",
              "    background-color: #E8F0FE;\n",
              "    border: none;\n",
              "    border-radius: 50%;\n",
              "    cursor: pointer;\n",
              "    display: none;\n",
              "    fill: #1967D2;\n",
              "    height: 32px;\n",
              "    padding: 0 0 0 0;\n",
              "    width: 32px;\n",
              "  }\n",
              "\n",
              "  .colab-df-quickchart:hover {\n",
              "    background-color: #E2EBFA;\n",
              "    box-shadow: 0px 1px 2px rgba(60, 64, 67, 0.3), 0px 1px 3px 1px rgba(60, 64, 67, 0.15);\n",
              "    fill: #174EA6;\n",
              "  }\n",
              "\n",
              "  [theme=dark] .colab-df-quickchart {\n",
              "    background-color: #3B4455;\n",
              "    fill: #D2E3FC;\n",
              "  }\n",
              "\n",
              "  [theme=dark] .colab-df-quickchart:hover {\n",
              "    background-color: #434B5C;\n",
              "    box-shadow: 0px 1px 3px 1px rgba(0, 0, 0, 0.15);\n",
              "    filter: drop-shadow(0px 1px 2px rgba(0, 0, 0, 0.3));\n",
              "    fill: #FFFFFF;\n",
              "  }\n",
              "</style>\n",
              "\n",
              "    <script>\n",
              "      async function quickchart(key) {\n",
              "        const containerElement = document.querySelector('#' + key);\n",
              "        const charts = await google.colab.kernel.invokeFunction(\n",
              "            'suggestCharts', [key], {});\n",
              "      }\n",
              "    </script>\n",
              "\n",
              "      <script>\n",
              "\n",
              "function displayQuickchartButton(domScope) {\n",
              "  let quickchartButtonEl =\n",
              "    domScope.querySelector('#df-523ed8c3-3b0e-41d8-9a86-f3f416ca10ff button.colab-df-quickchart');\n",
              "  quickchartButtonEl.style.display =\n",
              "    google.colab.kernel.accessAllowed ? 'block' : 'none';\n",
              "}\n",
              "\n",
              "        displayQuickchartButton(document);\n",
              "      </script>\n",
              "      <style>\n",
              "    .colab-df-container {\n",
              "      display:flex;\n",
              "      flex-wrap:wrap;\n",
              "      gap: 12px;\n",
              "    }\n",
              "\n",
              "    .colab-df-convert {\n",
              "      background-color: #E8F0FE;\n",
              "      border: none;\n",
              "      border-radius: 50%;\n",
              "      cursor: pointer;\n",
              "      display: none;\n",
              "      fill: #1967D2;\n",
              "      height: 32px;\n",
              "      padding: 0 0 0 0;\n",
              "      width: 32px;\n",
              "    }\n",
              "\n",
              "    .colab-df-convert:hover {\n",
              "      background-color: #E2EBFA;\n",
              "      box-shadow: 0px 1px 2px rgba(60, 64, 67, 0.3), 0px 1px 3px 1px rgba(60, 64, 67, 0.15);\n",
              "      fill: #174EA6;\n",
              "    }\n",
              "\n",
              "    [theme=dark] .colab-df-convert {\n",
              "      background-color: #3B4455;\n",
              "      fill: #D2E3FC;\n",
              "    }\n",
              "\n",
              "    [theme=dark] .colab-df-convert:hover {\n",
              "      background-color: #434B5C;\n",
              "      box-shadow: 0px 1px 3px 1px rgba(0, 0, 0, 0.15);\n",
              "      filter: drop-shadow(0px 1px 2px rgba(0, 0, 0, 0.3));\n",
              "      fill: #FFFFFF;\n",
              "    }\n",
              "  </style>\n",
              "\n",
              "      <script>\n",
              "        const buttonEl =\n",
              "          document.querySelector('#df-06cfe2e2-00d5-4c2e-b3da-9bb03bd04436 button.colab-df-convert');\n",
              "        buttonEl.style.display =\n",
              "          google.colab.kernel.accessAllowed ? 'block' : 'none';\n",
              "\n",
              "        async function convertToInteractive(key) {\n",
              "          const element = document.querySelector('#df-06cfe2e2-00d5-4c2e-b3da-9bb03bd04436');\n",
              "          const dataTable =\n",
              "            await google.colab.kernel.invokeFunction('convertToInteractive',\n",
              "                                                     [key], {});\n",
              "          if (!dataTable) return;\n",
              "\n",
              "          const docLinkHtml = 'Like what you see? Visit the ' +\n",
              "            '<a target=\"_blank\" href=https://colab.research.google.com/notebooks/data_table.ipynb>data table notebook</a>'\n",
              "            + ' to learn more about interactive tables.';\n",
              "          element.innerHTML = '';\n",
              "          dataTable['output_type'] = 'display_data';\n",
              "          await google.colab.output.renderOutput(dataTable, element);\n",
              "          const docLink = document.createElement('div');\n",
              "          docLink.innerHTML = docLinkHtml;\n",
              "          element.appendChild(docLink);\n",
              "        }\n",
              "      </script>\n",
              "    </div>\n",
              "  </div>\n"
            ]
          },
          "metadata": {},
          "execution_count": 42
        }
      ]
    },
    {
      "cell_type": "code",
      "execution_count": null,
      "id": "1e0270af",
      "metadata": {
        "id": "1e0270af"
      },
      "outputs": [],
      "source": [
        "cat_cols=['Weatherconditions','Road_traffic_density','Type_of_vehicle','Festival','City','DayOfWeek']"
      ]
    },
    {
      "cell_type": "code",
      "source": [
        "#Encoding my categorical labels\n",
        "from sklearn.preprocessing import OneHotEncoder\n",
        "encoder=OneHotEncoder(sparse=False,drop='first',handle_unknown='ignore')\n",
        "encoder.fit(train[cat_cols])\n"
      ],
      "metadata": {
        "colab": {
          "base_uri": "https://localhost:8080/",
          "height": 91
        },
        "id": "pInwxOG3qvmo",
        "outputId": "aef07feb-357a-4521-9c8f-dd19913f88eb"
      },
      "id": "pInwxOG3qvmo",
      "execution_count": null,
      "outputs": [
        {
          "output_type": "execute_result",
          "data": {
            "text/plain": [
              "OneHotEncoder(drop='first', handle_unknown='ignore', sparse=False,\n",
              "              sparse_output=False)"
            ],
            "text/html": [
              "<style>#sk-container-id-1 {color: black;background-color: white;}#sk-container-id-1 pre{padding: 0;}#sk-container-id-1 div.sk-toggleable {background-color: white;}#sk-container-id-1 label.sk-toggleable__label {cursor: pointer;display: block;width: 100%;margin-bottom: 0;padding: 0.3em;box-sizing: border-box;text-align: center;}#sk-container-id-1 label.sk-toggleable__label-arrow:before {content: \"▸\";float: left;margin-right: 0.25em;color: #696969;}#sk-container-id-1 label.sk-toggleable__label-arrow:hover:before {color: black;}#sk-container-id-1 div.sk-estimator:hover label.sk-toggleable__label-arrow:before {color: black;}#sk-container-id-1 div.sk-toggleable__content {max-height: 0;max-width: 0;overflow: hidden;text-align: left;background-color: #f0f8ff;}#sk-container-id-1 div.sk-toggleable__content pre {margin: 0.2em;color: black;border-radius: 0.25em;background-color: #f0f8ff;}#sk-container-id-1 input.sk-toggleable__control:checked~div.sk-toggleable__content {max-height: 200px;max-width: 100%;overflow: auto;}#sk-container-id-1 input.sk-toggleable__control:checked~label.sk-toggleable__label-arrow:before {content: \"▾\";}#sk-container-id-1 div.sk-estimator input.sk-toggleable__control:checked~label.sk-toggleable__label {background-color: #d4ebff;}#sk-container-id-1 div.sk-label input.sk-toggleable__control:checked~label.sk-toggleable__label {background-color: #d4ebff;}#sk-container-id-1 input.sk-hidden--visually {border: 0;clip: rect(1px 1px 1px 1px);clip: rect(1px, 1px, 1px, 1px);height: 1px;margin: -1px;overflow: hidden;padding: 0;position: absolute;width: 1px;}#sk-container-id-1 div.sk-estimator {font-family: monospace;background-color: #f0f8ff;border: 1px dotted black;border-radius: 0.25em;box-sizing: border-box;margin-bottom: 0.5em;}#sk-container-id-1 div.sk-estimator:hover {background-color: #d4ebff;}#sk-container-id-1 div.sk-parallel-item::after {content: \"\";width: 100%;border-bottom: 1px solid gray;flex-grow: 1;}#sk-container-id-1 div.sk-label:hover label.sk-toggleable__label {background-color: #d4ebff;}#sk-container-id-1 div.sk-serial::before {content: \"\";position: absolute;border-left: 1px solid gray;box-sizing: border-box;top: 0;bottom: 0;left: 50%;z-index: 0;}#sk-container-id-1 div.sk-serial {display: flex;flex-direction: column;align-items: center;background-color: white;padding-right: 0.2em;padding-left: 0.2em;position: relative;}#sk-container-id-1 div.sk-item {position: relative;z-index: 1;}#sk-container-id-1 div.sk-parallel {display: flex;align-items: stretch;justify-content: center;background-color: white;position: relative;}#sk-container-id-1 div.sk-item::before, #sk-container-id-1 div.sk-parallel-item::before {content: \"\";position: absolute;border-left: 1px solid gray;box-sizing: border-box;top: 0;bottom: 0;left: 50%;z-index: -1;}#sk-container-id-1 div.sk-parallel-item {display: flex;flex-direction: column;z-index: 1;position: relative;background-color: white;}#sk-container-id-1 div.sk-parallel-item:first-child::after {align-self: flex-end;width: 50%;}#sk-container-id-1 div.sk-parallel-item:last-child::after {align-self: flex-start;width: 50%;}#sk-container-id-1 div.sk-parallel-item:only-child::after {width: 0;}#sk-container-id-1 div.sk-dashed-wrapped {border: 1px dashed gray;margin: 0 0.4em 0.5em 0.4em;box-sizing: border-box;padding-bottom: 0.4em;background-color: white;}#sk-container-id-1 div.sk-label label {font-family: monospace;font-weight: bold;display: inline-block;line-height: 1.2em;}#sk-container-id-1 div.sk-label-container {text-align: center;}#sk-container-id-1 div.sk-container {/* jupyter's `normalize.less` sets `[hidden] { display: none; }` but bootstrap.min.css set `[hidden] { display: none !important; }` so we also need the `!important` here to be able to override the default hidden behavior on the sphinx rendered scikit-learn.org. See: https://github.com/scikit-learn/scikit-learn/issues/21755 */display: inline-block !important;position: relative;}#sk-container-id-1 div.sk-text-repr-fallback {display: none;}</style><div id=\"sk-container-id-1\" class=\"sk-top-container\"><div class=\"sk-text-repr-fallback\"><pre>OneHotEncoder(drop=&#x27;first&#x27;, handle_unknown=&#x27;ignore&#x27;, sparse=False,\n",
              "              sparse_output=False)</pre><b>In a Jupyter environment, please rerun this cell to show the HTML representation or trust the notebook. <br />On GitHub, the HTML representation is unable to render, please try loading this page with nbviewer.org.</b></div><div class=\"sk-container\" hidden><div class=\"sk-item\"><div class=\"sk-estimator sk-toggleable\"><input class=\"sk-toggleable__control sk-hidden--visually\" id=\"sk-estimator-id-1\" type=\"checkbox\" checked><label for=\"sk-estimator-id-1\" class=\"sk-toggleable__label sk-toggleable__label-arrow\">OneHotEncoder</label><div class=\"sk-toggleable__content\"><pre>OneHotEncoder(drop=&#x27;first&#x27;, handle_unknown=&#x27;ignore&#x27;, sparse=False,\n",
              "              sparse_output=False)</pre></div></div></div></div></div>"
            ]
          },
          "metadata": {},
          "execution_count": 44
        }
      ]
    },
    {
      "cell_type": "code",
      "source": [
        "def get_encoder(df):\n",
        "    temp_df = pd.DataFrame(data=encoder.transform(df[cat_cols]), columns=encoder.get_feature_names_out())\n",
        "    df.drop(columns=cat_cols, axis=1, inplace=True)\n",
        "    df = pd.concat([df.reset_index(drop=True), temp_df], axis=1)\n",
        "    return df"
      ],
      "metadata": {
        "id": "OyFPUE-XtHok"
      },
      "id": "OyFPUE-XtHok",
      "execution_count": null,
      "outputs": []
    },
    {
      "cell_type": "code",
      "source": [
        "encod_train = get_encoder(train)\n",
        "encod_test = get_encoder(test)"
      ],
      "metadata": {
        "id": "lagAj4T-tI7z"
      },
      "id": "lagAj4T-tI7z",
      "execution_count": null,
      "outputs": []
    },
    {
      "cell_type": "code",
      "execution_count": null,
      "id": "e4408cd9",
      "metadata": {
        "colab": {
          "base_uri": "https://localhost:8080/",
          "height": 287
        },
        "id": "e4408cd9",
        "outputId": "16cf2ea3-fddf-41ea-c382-cc1b8aefa7ff"
      },
      "outputs": [
        {
          "output_type": "execute_result",
          "data": {
            "text/plain": [
              "   Delivery_person_Age  Delivery_person_Ratings  Vehicle_condition  \\\n",
              "0                 37.0                      4.9                2.0   \n",
              "1                 34.0                      4.5                2.0   \n",
              "2                 23.0                      4.4                0.0   \n",
              "3                 38.0                      4.7                0.0   \n",
              "4                 32.0                      4.6                1.0   \n",
              "\n",
              "   multiple_deliveries   distance  Hour  Weatherconditions_Fog  \\\n",
              "0                  0.0   3.025149    11                    0.0   \n",
              "1                  1.0  20.183530    19                    0.0   \n",
              "2                  1.0   1.552758     8                    0.0   \n",
              "3                  1.0   7.790401    18                    0.0   \n",
              "4                  1.0   6.210138    13                    0.0   \n",
              "\n",
              "   Weatherconditions_Sandstorms  Weatherconditions_Stormy  \\\n",
              "0                           0.0                       0.0   \n",
              "1                           0.0                       1.0   \n",
              "2                           1.0                       0.0   \n",
              "3                           0.0                       0.0   \n",
              "4                           0.0                       0.0   \n",
              "\n",
              "   Weatherconditions_Sunny  Weatherconditions_Windy  \\\n",
              "0                      1.0                      0.0   \n",
              "1                      0.0                      0.0   \n",
              "2                      0.0                      0.0   \n",
              "3                      1.0                      0.0   \n",
              "4                      0.0                      0.0   \n",
              "\n",
              "   Road_traffic_density_Jam   Road_traffic_density_Low   \\\n",
              "0                        0.0                        0.0   \n",
              "1                        1.0                        0.0   \n",
              "2                        0.0                        1.0   \n",
              "3                        0.0                        0.0   \n",
              "4                        0.0                        0.0   \n",
              "\n",
              "   Road_traffic_density_Medium   Type_of_vehicle_motorcycle   \\\n",
              "0                           0.0                          1.0   \n",
              "1                           0.0                          0.0   \n",
              "2                           0.0                          1.0   \n",
              "3                           1.0                          1.0   \n",
              "4                           0.0                          0.0   \n",
              "\n",
              "   Type_of_vehicle_scooter   Festival_Yes   City_Semi-Urban   City_Urban   \\\n",
              "0                       0.0            0.0               0.0          1.0   \n",
              "1                       1.0            0.0               0.0          0.0   \n",
              "2                       0.0            0.0               0.0          1.0   \n",
              "3                       0.0            0.0               0.0          0.0   \n",
              "4                       1.0            0.0               0.0          0.0   \n",
              "\n",
              "   DayOfWeek_Monday  DayOfWeek_Saturday  DayOfWeek_Sunday  DayOfWeek_Thursday  \\\n",
              "0               0.0                 1.0               0.0                 0.0   \n",
              "1               0.0                 0.0               0.0                 0.0   \n",
              "2               0.0                 1.0               0.0                 0.0   \n",
              "3               0.0                 0.0               0.0                 0.0   \n",
              "4               0.0                 1.0               0.0                 0.0   \n",
              "\n",
              "   DayOfWeek_Tuesday  DayOfWeek_Wednesday  \n",
              "0                0.0                  0.0  \n",
              "1                0.0                  0.0  \n",
              "2                0.0                  0.0  \n",
              "3                1.0                  0.0  \n",
              "4                0.0                  0.0  "
            ],
            "text/html": [
              "\n",
              "\n",
              "  <div id=\"df-204bc6cf-2f26-47a8-9a02-79b3f9146e33\">\n",
              "    <div class=\"colab-df-container\">\n",
              "      <div>\n",
              "<style scoped>\n",
              "    .dataframe tbody tr th:only-of-type {\n",
              "        vertical-align: middle;\n",
              "    }\n",
              "\n",
              "    .dataframe tbody tr th {\n",
              "        vertical-align: top;\n",
              "    }\n",
              "\n",
              "    .dataframe thead th {\n",
              "        text-align: right;\n",
              "    }\n",
              "</style>\n",
              "<table border=\"1\" class=\"dataframe\">\n",
              "  <thead>\n",
              "    <tr style=\"text-align: right;\">\n",
              "      <th></th>\n",
              "      <th>Delivery_person_Age</th>\n",
              "      <th>Delivery_person_Ratings</th>\n",
              "      <th>Vehicle_condition</th>\n",
              "      <th>multiple_deliveries</th>\n",
              "      <th>distance</th>\n",
              "      <th>Hour</th>\n",
              "      <th>Weatherconditions_Fog</th>\n",
              "      <th>Weatherconditions_Sandstorms</th>\n",
              "      <th>Weatherconditions_Stormy</th>\n",
              "      <th>Weatherconditions_Sunny</th>\n",
              "      <th>Weatherconditions_Windy</th>\n",
              "      <th>Road_traffic_density_Jam</th>\n",
              "      <th>Road_traffic_density_Low</th>\n",
              "      <th>Road_traffic_density_Medium</th>\n",
              "      <th>Type_of_vehicle_motorcycle</th>\n",
              "      <th>Type_of_vehicle_scooter</th>\n",
              "      <th>Festival_Yes</th>\n",
              "      <th>City_Semi-Urban</th>\n",
              "      <th>City_Urban</th>\n",
              "      <th>DayOfWeek_Monday</th>\n",
              "      <th>DayOfWeek_Saturday</th>\n",
              "      <th>DayOfWeek_Sunday</th>\n",
              "      <th>DayOfWeek_Thursday</th>\n",
              "      <th>DayOfWeek_Tuesday</th>\n",
              "      <th>DayOfWeek_Wednesday</th>\n",
              "    </tr>\n",
              "  </thead>\n",
              "  <tbody>\n",
              "    <tr>\n",
              "      <th>0</th>\n",
              "      <td>37.0</td>\n",
              "      <td>4.9</td>\n",
              "      <td>2.0</td>\n",
              "      <td>0.0</td>\n",
              "      <td>3.025149</td>\n",
              "      <td>11</td>\n",
              "      <td>0.0</td>\n",
              "      <td>0.0</td>\n",
              "      <td>0.0</td>\n",
              "      <td>1.0</td>\n",
              "      <td>0.0</td>\n",
              "      <td>0.0</td>\n",
              "      <td>0.0</td>\n",
              "      <td>0.0</td>\n",
              "      <td>1.0</td>\n",
              "      <td>0.0</td>\n",
              "      <td>0.0</td>\n",
              "      <td>0.0</td>\n",
              "      <td>1.0</td>\n",
              "      <td>0.0</td>\n",
              "      <td>1.0</td>\n",
              "      <td>0.0</td>\n",
              "      <td>0.0</td>\n",
              "      <td>0.0</td>\n",
              "      <td>0.0</td>\n",
              "    </tr>\n",
              "    <tr>\n",
              "      <th>1</th>\n",
              "      <td>34.0</td>\n",
              "      <td>4.5</td>\n",
              "      <td>2.0</td>\n",
              "      <td>1.0</td>\n",
              "      <td>20.183530</td>\n",
              "      <td>19</td>\n",
              "      <td>0.0</td>\n",
              "      <td>0.0</td>\n",
              "      <td>1.0</td>\n",
              "      <td>0.0</td>\n",
              "      <td>0.0</td>\n",
              "      <td>1.0</td>\n",
              "      <td>0.0</td>\n",
              "      <td>0.0</td>\n",
              "      <td>0.0</td>\n",
              "      <td>1.0</td>\n",
              "      <td>0.0</td>\n",
              "      <td>0.0</td>\n",
              "      <td>0.0</td>\n",
              "      <td>0.0</td>\n",
              "      <td>0.0</td>\n",
              "      <td>0.0</td>\n",
              "      <td>0.0</td>\n",
              "      <td>0.0</td>\n",
              "      <td>0.0</td>\n",
              "    </tr>\n",
              "    <tr>\n",
              "      <th>2</th>\n",
              "      <td>23.0</td>\n",
              "      <td>4.4</td>\n",
              "      <td>0.0</td>\n",
              "      <td>1.0</td>\n",
              "      <td>1.552758</td>\n",
              "      <td>8</td>\n",
              "      <td>0.0</td>\n",
              "      <td>1.0</td>\n",
              "      <td>0.0</td>\n",
              "      <td>0.0</td>\n",
              "      <td>0.0</td>\n",
              "      <td>0.0</td>\n",
              "      <td>1.0</td>\n",
              "      <td>0.0</td>\n",
              "      <td>1.0</td>\n",
              "      <td>0.0</td>\n",
              "      <td>0.0</td>\n",
              "      <td>0.0</td>\n",
              "      <td>1.0</td>\n",
              "      <td>0.0</td>\n",
              "      <td>1.0</td>\n",
              "      <td>0.0</td>\n",
              "      <td>0.0</td>\n",
              "      <td>0.0</td>\n",
              "      <td>0.0</td>\n",
              "    </tr>\n",
              "    <tr>\n",
              "      <th>3</th>\n",
              "      <td>38.0</td>\n",
              "      <td>4.7</td>\n",
              "      <td>0.0</td>\n",
              "      <td>1.0</td>\n",
              "      <td>7.790401</td>\n",
              "      <td>18</td>\n",
              "      <td>0.0</td>\n",
              "      <td>0.0</td>\n",
              "      <td>0.0</td>\n",
              "      <td>1.0</td>\n",
              "      <td>0.0</td>\n",
              "      <td>0.0</td>\n",
              "      <td>0.0</td>\n",
              "      <td>1.0</td>\n",
              "      <td>1.0</td>\n",
              "      <td>0.0</td>\n",
              "      <td>0.0</td>\n",
              "      <td>0.0</td>\n",
              "      <td>0.0</td>\n",
              "      <td>0.0</td>\n",
              "      <td>0.0</td>\n",
              "      <td>0.0</td>\n",
              "      <td>0.0</td>\n",
              "      <td>1.0</td>\n",
              "      <td>0.0</td>\n",
              "    </tr>\n",
              "    <tr>\n",
              "      <th>4</th>\n",
              "      <td>32.0</td>\n",
              "      <td>4.6</td>\n",
              "      <td>1.0</td>\n",
              "      <td>1.0</td>\n",
              "      <td>6.210138</td>\n",
              "      <td>13</td>\n",
              "      <td>0.0</td>\n",
              "      <td>0.0</td>\n",
              "      <td>0.0</td>\n",
              "      <td>0.0</td>\n",
              "      <td>0.0</td>\n",
              "      <td>0.0</td>\n",
              "      <td>0.0</td>\n",
              "      <td>0.0</td>\n",
              "      <td>0.0</td>\n",
              "      <td>1.0</td>\n",
              "      <td>0.0</td>\n",
              "      <td>0.0</td>\n",
              "      <td>0.0</td>\n",
              "      <td>0.0</td>\n",
              "      <td>1.0</td>\n",
              "      <td>0.0</td>\n",
              "      <td>0.0</td>\n",
              "      <td>0.0</td>\n",
              "      <td>0.0</td>\n",
              "    </tr>\n",
              "  </tbody>\n",
              "</table>\n",
              "</div>\n",
              "      <button class=\"colab-df-convert\" onclick=\"convertToInteractive('df-204bc6cf-2f26-47a8-9a02-79b3f9146e33')\"\n",
              "              title=\"Convert this dataframe to an interactive table.\"\n",
              "              style=\"display:none;\">\n",
              "\n",
              "  <svg xmlns=\"http://www.w3.org/2000/svg\" height=\"24px\"viewBox=\"0 0 24 24\"\n",
              "       width=\"24px\">\n",
              "    <path d=\"M0 0h24v24H0V0z\" fill=\"none\"/>\n",
              "    <path d=\"M18.56 5.44l.94 2.06.94-2.06 2.06-.94-2.06-.94-.94-2.06-.94 2.06-2.06.94zm-11 1L8.5 8.5l.94-2.06 2.06-.94-2.06-.94L8.5 2.5l-.94 2.06-2.06.94zm10 10l.94 2.06.94-2.06 2.06-.94-2.06-.94-.94-2.06-.94 2.06-2.06.94z\"/><path d=\"M17.41 7.96l-1.37-1.37c-.4-.4-.92-.59-1.43-.59-.52 0-1.04.2-1.43.59L10.3 9.45l-7.72 7.72c-.78.78-.78 2.05 0 2.83L4 21.41c.39.39.9.59 1.41.59.51 0 1.02-.2 1.41-.59l7.78-7.78 2.81-2.81c.8-.78.8-2.07 0-2.86zM5.41 20L4 18.59l7.72-7.72 1.47 1.35L5.41 20z\"/>\n",
              "  </svg>\n",
              "      </button>\n",
              "\n",
              "\n",
              "\n",
              "    <div id=\"df-73502297-4c2f-44e9-912a-080fccde21fe\">\n",
              "      <button class=\"colab-df-quickchart\" onclick=\"quickchart('df-73502297-4c2f-44e9-912a-080fccde21fe')\"\n",
              "              title=\"Suggest charts.\"\n",
              "              style=\"display:none;\">\n",
              "\n",
              "<svg xmlns=\"http://www.w3.org/2000/svg\" height=\"24px\"viewBox=\"0 0 24 24\"\n",
              "     width=\"24px\">\n",
              "    <g>\n",
              "        <path d=\"M19 3H5c-1.1 0-2 .9-2 2v14c0 1.1.9 2 2 2h14c1.1 0 2-.9 2-2V5c0-1.1-.9-2-2-2zM9 17H7v-7h2v7zm4 0h-2V7h2v10zm4 0h-2v-4h2v4z\"/>\n",
              "    </g>\n",
              "</svg>\n",
              "      </button>\n",
              "    </div>\n",
              "\n",
              "<style>\n",
              "  .colab-df-quickchart {\n",
              "    background-color: #E8F0FE;\n",
              "    border: none;\n",
              "    border-radius: 50%;\n",
              "    cursor: pointer;\n",
              "    display: none;\n",
              "    fill: #1967D2;\n",
              "    height: 32px;\n",
              "    padding: 0 0 0 0;\n",
              "    width: 32px;\n",
              "  }\n",
              "\n",
              "  .colab-df-quickchart:hover {\n",
              "    background-color: #E2EBFA;\n",
              "    box-shadow: 0px 1px 2px rgba(60, 64, 67, 0.3), 0px 1px 3px 1px rgba(60, 64, 67, 0.15);\n",
              "    fill: #174EA6;\n",
              "  }\n",
              "\n",
              "  [theme=dark] .colab-df-quickchart {\n",
              "    background-color: #3B4455;\n",
              "    fill: #D2E3FC;\n",
              "  }\n",
              "\n",
              "  [theme=dark] .colab-df-quickchart:hover {\n",
              "    background-color: #434B5C;\n",
              "    box-shadow: 0px 1px 3px 1px rgba(0, 0, 0, 0.15);\n",
              "    filter: drop-shadow(0px 1px 2px rgba(0, 0, 0, 0.3));\n",
              "    fill: #FFFFFF;\n",
              "  }\n",
              "</style>\n",
              "\n",
              "    <script>\n",
              "      async function quickchart(key) {\n",
              "        const containerElement = document.querySelector('#' + key);\n",
              "        const charts = await google.colab.kernel.invokeFunction(\n",
              "            'suggestCharts', [key], {});\n",
              "      }\n",
              "    </script>\n",
              "\n",
              "      <script>\n",
              "\n",
              "function displayQuickchartButton(domScope) {\n",
              "  let quickchartButtonEl =\n",
              "    domScope.querySelector('#df-73502297-4c2f-44e9-912a-080fccde21fe button.colab-df-quickchart');\n",
              "  quickchartButtonEl.style.display =\n",
              "    google.colab.kernel.accessAllowed ? 'block' : 'none';\n",
              "}\n",
              "\n",
              "        displayQuickchartButton(document);\n",
              "      </script>\n",
              "      <style>\n",
              "    .colab-df-container {\n",
              "      display:flex;\n",
              "      flex-wrap:wrap;\n",
              "      gap: 12px;\n",
              "    }\n",
              "\n",
              "    .colab-df-convert {\n",
              "      background-color: #E8F0FE;\n",
              "      border: none;\n",
              "      border-radius: 50%;\n",
              "      cursor: pointer;\n",
              "      display: none;\n",
              "      fill: #1967D2;\n",
              "      height: 32px;\n",
              "      padding: 0 0 0 0;\n",
              "      width: 32px;\n",
              "    }\n",
              "\n",
              "    .colab-df-convert:hover {\n",
              "      background-color: #E2EBFA;\n",
              "      box-shadow: 0px 1px 2px rgba(60, 64, 67, 0.3), 0px 1px 3px 1px rgba(60, 64, 67, 0.15);\n",
              "      fill: #174EA6;\n",
              "    }\n",
              "\n",
              "    [theme=dark] .colab-df-convert {\n",
              "      background-color: #3B4455;\n",
              "      fill: #D2E3FC;\n",
              "    }\n",
              "\n",
              "    [theme=dark] .colab-df-convert:hover {\n",
              "      background-color: #434B5C;\n",
              "      box-shadow: 0px 1px 3px 1px rgba(0, 0, 0, 0.15);\n",
              "      filter: drop-shadow(0px 1px 2px rgba(0, 0, 0, 0.3));\n",
              "      fill: #FFFFFF;\n",
              "    }\n",
              "  </style>\n",
              "\n",
              "      <script>\n",
              "        const buttonEl =\n",
              "          document.querySelector('#df-204bc6cf-2f26-47a8-9a02-79b3f9146e33 button.colab-df-convert');\n",
              "        buttonEl.style.display =\n",
              "          google.colab.kernel.accessAllowed ? 'block' : 'none';\n",
              "\n",
              "        async function convertToInteractive(key) {\n",
              "          const element = document.querySelector('#df-204bc6cf-2f26-47a8-9a02-79b3f9146e33');\n",
              "          const dataTable =\n",
              "            await google.colab.kernel.invokeFunction('convertToInteractive',\n",
              "                                                     [key], {});\n",
              "          if (!dataTable) return;\n",
              "\n",
              "          const docLinkHtml = 'Like what you see? Visit the ' +\n",
              "            '<a target=\"_blank\" href=https://colab.research.google.com/notebooks/data_table.ipynb>data table notebook</a>'\n",
              "            + ' to learn more about interactive tables.';\n",
              "          element.innerHTML = '';\n",
              "          dataTable['output_type'] = 'display_data';\n",
              "          await google.colab.output.renderOutput(dataTable, element);\n",
              "          const docLink = document.createElement('div');\n",
              "          docLink.innerHTML = docLinkHtml;\n",
              "          element.appendChild(docLink);\n",
              "        }\n",
              "      </script>\n",
              "    </div>\n",
              "  </div>\n"
            ]
          },
          "metadata": {},
          "execution_count": 47
        }
      ],
      "source": [
        "encod_train.head()"
      ]
    },
    {
      "cell_type": "code",
      "source": [
        "encod_train.shape"
      ],
      "metadata": {
        "colab": {
          "base_uri": "https://localhost:8080/"
        },
        "id": "54y9cPj6eC68",
        "outputId": "e4360a5f-060a-4a37-ac5e-77969908c9c3"
      },
      "id": "54y9cPj6eC68",
      "execution_count": null,
      "outputs": [
        {
          "output_type": "execute_result",
          "data": {
            "text/plain": [
              "(41368, 25)"
            ]
          },
          "metadata": {},
          "execution_count": 48
        }
      ]
    },
    {
      "cell_type": "code",
      "source": [
        "encod_train.dtypes"
      ],
      "metadata": {
        "colab": {
          "base_uri": "https://localhost:8080/"
        },
        "id": "RQyk1AmFux_3",
        "outputId": "2b0ac602-d74f-494e-fa2f-5e12fb8252a2"
      },
      "id": "RQyk1AmFux_3",
      "execution_count": null,
      "outputs": [
        {
          "output_type": "execute_result",
          "data": {
            "text/plain": [
              "Delivery_person_Age             float64\n",
              "Delivery_person_Ratings         float64\n",
              "Vehicle_condition               float64\n",
              "multiple_deliveries             float64\n",
              "distance                        float64\n",
              "Hour                              int64\n",
              "Weatherconditions_Fog           float64\n",
              "Weatherconditions_Sandstorms    float64\n",
              "Weatherconditions_Stormy        float64\n",
              "Weatherconditions_Sunny         float64\n",
              "Weatherconditions_Windy         float64\n",
              "Road_traffic_density_Jam        float64\n",
              "Road_traffic_density_Low        float64\n",
              "Road_traffic_density_Medium     float64\n",
              "Type_of_vehicle_motorcycle      float64\n",
              "Type_of_vehicle_scooter         float64\n",
              "Festival_Yes                    float64\n",
              "City_Semi-Urban                 float64\n",
              "City_Urban                      float64\n",
              "DayOfWeek_Monday                float64\n",
              "DayOfWeek_Saturday              float64\n",
              "DayOfWeek_Sunday                float64\n",
              "DayOfWeek_Thursday              float64\n",
              "DayOfWeek_Tuesday               float64\n",
              "DayOfWeek_Wednesday             float64\n",
              "dtype: object"
            ]
          },
          "metadata": {},
          "execution_count": 49
        }
      ]
    },
    {
      "cell_type": "code",
      "source": [
        "scaler = StandardScaler()\n",
        "X_train_scaled = scaler.fit_transform(encod_train)\n",
        "X_test_scaled = scaler.transform(encod_test)"
      ],
      "metadata": {
        "id": "pHDLsYmEbDeE"
      },
      "id": "pHDLsYmEbDeE",
      "execution_count": null,
      "outputs": []
    },
    {
      "cell_type": "code",
      "execution_count": null,
      "id": "ea723dc6",
      "metadata": {
        "id": "ea723dc6"
      },
      "outputs": [],
      "source": [
        "from sklearn.ensemble import RandomForestRegressor\n",
        "from sklearn.linear_model import LinearRegression\n",
        "from sklearn.neighbors import KNeighborsRegressor\n",
        "from sklearn.tree import DecisionTreeRegressor\n",
        "from sklearn.metrics import mean_squared_error\n",
        "from sklearn.model_selection import StratifiedKFold\n",
        "from sklearn.metrics import r2_score\n",
        "kfolds = StratifiedKFold(n_splits=5, shuffle=True, random_state=42)\n"
      ]
    },
    {
      "cell_type": "code",
      "source": [
        "models = []\n",
        "models.append(('LR', LinearRegression()))\n",
        "models.append(('KNN', KNeighborsRegressor(n_neighbors=5))) #double brackets bcoz append takes only a single argument\n",
        "models.append(('TREES', DecisionTreeRegressor(max_depth=25)))\n",
        "models.append(('FOREST', RandomForestRegressor(max_depth=25,n_estimators=250)))\n",
        "models"
      ],
      "metadata": {
        "id": "deOUat6zjIRp",
        "colab": {
          "base_uri": "https://localhost:8080/"
        },
        "outputId": "58da324a-0d4d-4fdc-ee5b-ed8e343bbed8"
      },
      "id": "deOUat6zjIRp",
      "execution_count": null,
      "outputs": [
        {
          "output_type": "execute_result",
          "data": {
            "text/plain": [
              "[('LR', LinearRegression()),\n",
              " ('KNN', KNeighborsRegressor()),\n",
              " ('TREES', DecisionTreeRegressor(max_depth=10)),\n",
              " ('FOREST', RandomForestRegressor(max_depth=25, n_estimators=250))]"
            ]
          },
          "metadata": {},
          "execution_count": 52
        }
      ]
    },
    {
      "cell_type": "code",
      "source": [
        "from sklearn.model_selection import cross_val_score\n",
        "names = []\n",
        "\n",
        "for name, model in models:\n",
        "    # RMSE Scoring\n",
        "    #kfold = StratifiedKFold(n_splits=5, random_state=1, shuffle=True)\n",
        "    cv_results = np.sqrt(-cross_val_score(model, X_train_scaled, target, cv=kfolds, scoring='neg_mean_squared_error'))\n",
        "    print(cv_results)\n",
        "    mean_score = np.mean(cv_results)\n",
        "    print(f\"Average RMSE for {name} is: {mean_score:.3f}\")\n",
        "\n",
        "\n",
        "\n"
      ],
      "metadata": {
        "colab": {
          "base_uri": "https://localhost:8080/"
        },
        "id": "VgZ-pURx0L23",
        "outputId": "c87360b8-38ce-4060-e592-4b0f63b8ae70"
      },
      "id": "VgZ-pURx0L23",
      "execution_count": null,
      "outputs": [
        {
          "output_type": "stream",
          "name": "stdout",
          "text": [
            "[6.08331681 6.13572505 6.07709586 6.13084549 6.06337801]\n",
            "Average RMSE for LR is: 6.098\n",
            "[5.7381198  5.77653853 5.78786124 5.76106003 5.75267773]\n",
            "Average RMSE for KNN is: 5.763\n",
            "[4.42586774 4.43544133 4.41609586 4.4397585  4.40104075]\n",
            "Average RMSE for TREES is: 4.424\n",
            "[3.92179607 3.85781811 3.8522549  3.89750127 3.90144693]\n",
            "Average RMSE for FOREST is: 3.886\n"
          ]
        }
      ]
    },
    {
      "cell_type": "code",
      "source": [
        "from sklearn.model_selection import cross_val_score\n",
        "names = []\n",
        "\n",
        "for name, model in models:\n",
        "    # R2 Scoring\n",
        "    #kfold = StratifiedKFold(n_splits=5, random_state=1, shuffle=True)\n",
        "    cv_results = (cross_val_score(model, X_train_scaled, target, cv=kfolds, scoring='r2'))\n",
        "    print(cv_results)\n",
        "    mean_score = np.mean(cv_results)\n",
        "    print(f\"Average R2 score for {name} is: {mean_score:.3f}\")\n"
      ],
      "metadata": {
        "colab": {
          "base_uri": "https://localhost:8080/"
        },
        "id": "-N08_pF5JSpJ",
        "outputId": "51f43cd6-0348-4389-930f-a577d8aa8154"
      },
      "id": "-N08_pF5JSpJ",
      "execution_count": null,
      "outputs": [
        {
          "output_type": "stream",
          "name": "stdout",
          "text": [
            "[0.57517431 0.56801362 0.57632697 0.56852042 0.57790578]\n",
            "Average R2 score for LR is: 0.573\n",
            "[0.62201973 0.61711036 0.61569603 0.61900059 0.62005546]\n",
            "Average R2 score for KNN is: 0.619\n",
            "[0.77490343 0.7747667  0.77619286 0.77369566 0.77657717]\n",
            "Average R2 score for TREES is: 0.775\n",
            "[0.82324761 0.82911547 0.8297634  0.82533439 0.82481248]\n",
            "Average R2 score for FOREST is: 0.826\n"
          ]
        }
      ]
    },
    {
      "cell_type": "code",
      "source": [
        "rg_model= RandomForestRegressor()\n",
        "rg_model.fit(encod_train,target)\n",
        "y_pred=rg_model.predict(encod_test)\n",
        "final=pd.DataFrame({\"ID\": ID, 'Predictions':y_pred})\n",
        "final"
      ],
      "metadata": {
        "id": "PQTz3upSYMBz",
        "colab": {
          "base_uri": "https://localhost:8080/",
          "height": 423
        },
        "outputId": "859a3ade-e6fb-4c04-e10f-e4c19b94be5f"
      },
      "id": "PQTz3upSYMBz",
      "execution_count": null,
      "outputs": [
        {
          "output_type": "execute_result",
          "data": {
            "text/plain": [
              "            ID  Predictions\n",
              "0      0x2318         17.02\n",
              "1      0x3474         31.36\n",
              "2      0x9420         29.05\n",
              "3      0x72ee         29.82\n",
              "4      0xa759         22.76\n",
              "...        ...          ...\n",
              "11394  0x6909         21.46\n",
              "11395  0x443b         29.36\n",
              "11396  0x1ea5         17.78\n",
              "11397  0x22d4         28.86\n",
              "11398  0xb7be         25.32\n",
              "\n",
              "[11399 rows x 2 columns]"
            ],
            "text/html": [
              "\n",
              "\n",
              "  <div id=\"df-5fc88807-bc5d-4a7a-ba30-3cda6ff15fde\">\n",
              "    <div class=\"colab-df-container\">\n",
              "      <div>\n",
              "<style scoped>\n",
              "    .dataframe tbody tr th:only-of-type {\n",
              "        vertical-align: middle;\n",
              "    }\n",
              "\n",
              "    .dataframe tbody tr th {\n",
              "        vertical-align: top;\n",
              "    }\n",
              "\n",
              "    .dataframe thead th {\n",
              "        text-align: right;\n",
              "    }\n",
              "</style>\n",
              "<table border=\"1\" class=\"dataframe\">\n",
              "  <thead>\n",
              "    <tr style=\"text-align: right;\">\n",
              "      <th></th>\n",
              "      <th>ID</th>\n",
              "      <th>Predictions</th>\n",
              "    </tr>\n",
              "  </thead>\n",
              "  <tbody>\n",
              "    <tr>\n",
              "      <th>0</th>\n",
              "      <td>0x2318</td>\n",
              "      <td>17.02</td>\n",
              "    </tr>\n",
              "    <tr>\n",
              "      <th>1</th>\n",
              "      <td>0x3474</td>\n",
              "      <td>31.36</td>\n",
              "    </tr>\n",
              "    <tr>\n",
              "      <th>2</th>\n",
              "      <td>0x9420</td>\n",
              "      <td>29.05</td>\n",
              "    </tr>\n",
              "    <tr>\n",
              "      <th>3</th>\n",
              "      <td>0x72ee</td>\n",
              "      <td>29.82</td>\n",
              "    </tr>\n",
              "    <tr>\n",
              "      <th>4</th>\n",
              "      <td>0xa759</td>\n",
              "      <td>22.76</td>\n",
              "    </tr>\n",
              "    <tr>\n",
              "      <th>...</th>\n",
              "      <td>...</td>\n",
              "      <td>...</td>\n",
              "    </tr>\n",
              "    <tr>\n",
              "      <th>11394</th>\n",
              "      <td>0x6909</td>\n",
              "      <td>21.46</td>\n",
              "    </tr>\n",
              "    <tr>\n",
              "      <th>11395</th>\n",
              "      <td>0x443b</td>\n",
              "      <td>29.36</td>\n",
              "    </tr>\n",
              "    <tr>\n",
              "      <th>11396</th>\n",
              "      <td>0x1ea5</td>\n",
              "      <td>17.78</td>\n",
              "    </tr>\n",
              "    <tr>\n",
              "      <th>11397</th>\n",
              "      <td>0x22d4</td>\n",
              "      <td>28.86</td>\n",
              "    </tr>\n",
              "    <tr>\n",
              "      <th>11398</th>\n",
              "      <td>0xb7be</td>\n",
              "      <td>25.32</td>\n",
              "    </tr>\n",
              "  </tbody>\n",
              "</table>\n",
              "<p>11399 rows × 2 columns</p>\n",
              "</div>\n",
              "      <button class=\"colab-df-convert\" onclick=\"convertToInteractive('df-5fc88807-bc5d-4a7a-ba30-3cda6ff15fde')\"\n",
              "              title=\"Convert this dataframe to an interactive table.\"\n",
              "              style=\"display:none;\">\n",
              "\n",
              "  <svg xmlns=\"http://www.w3.org/2000/svg\" height=\"24px\"viewBox=\"0 0 24 24\"\n",
              "       width=\"24px\">\n",
              "    <path d=\"M0 0h24v24H0V0z\" fill=\"none\"/>\n",
              "    <path d=\"M18.56 5.44l.94 2.06.94-2.06 2.06-.94-2.06-.94-.94-2.06-.94 2.06-2.06.94zm-11 1L8.5 8.5l.94-2.06 2.06-.94-2.06-.94L8.5 2.5l-.94 2.06-2.06.94zm10 10l.94 2.06.94-2.06 2.06-.94-2.06-.94-.94-2.06-.94 2.06-2.06.94z\"/><path d=\"M17.41 7.96l-1.37-1.37c-.4-.4-.92-.59-1.43-.59-.52 0-1.04.2-1.43.59L10.3 9.45l-7.72 7.72c-.78.78-.78 2.05 0 2.83L4 21.41c.39.39.9.59 1.41.59.51 0 1.02-.2 1.41-.59l7.78-7.78 2.81-2.81c.8-.78.8-2.07 0-2.86zM5.41 20L4 18.59l7.72-7.72 1.47 1.35L5.41 20z\"/>\n",
              "  </svg>\n",
              "      </button>\n",
              "\n",
              "\n",
              "\n",
              "    <div id=\"df-2033cf72-b40f-4dc9-96d4-379c8b5458bf\">\n",
              "      <button class=\"colab-df-quickchart\" onclick=\"quickchart('df-2033cf72-b40f-4dc9-96d4-379c8b5458bf')\"\n",
              "              title=\"Suggest charts.\"\n",
              "              style=\"display:none;\">\n",
              "\n",
              "<svg xmlns=\"http://www.w3.org/2000/svg\" height=\"24px\"viewBox=\"0 0 24 24\"\n",
              "     width=\"24px\">\n",
              "    <g>\n",
              "        <path d=\"M19 3H5c-1.1 0-2 .9-2 2v14c0 1.1.9 2 2 2h14c1.1 0 2-.9 2-2V5c0-1.1-.9-2-2-2zM9 17H7v-7h2v7zm4 0h-2V7h2v10zm4 0h-2v-4h2v4z\"/>\n",
              "    </g>\n",
              "</svg>\n",
              "      </button>\n",
              "    </div>\n",
              "\n",
              "<style>\n",
              "  .colab-df-quickchart {\n",
              "    background-color: #E8F0FE;\n",
              "    border: none;\n",
              "    border-radius: 50%;\n",
              "    cursor: pointer;\n",
              "    display: none;\n",
              "    fill: #1967D2;\n",
              "    height: 32px;\n",
              "    padding: 0 0 0 0;\n",
              "    width: 32px;\n",
              "  }\n",
              "\n",
              "  .colab-df-quickchart:hover {\n",
              "    background-color: #E2EBFA;\n",
              "    box-shadow: 0px 1px 2px rgba(60, 64, 67, 0.3), 0px 1px 3px 1px rgba(60, 64, 67, 0.15);\n",
              "    fill: #174EA6;\n",
              "  }\n",
              "\n",
              "  [theme=dark] .colab-df-quickchart {\n",
              "    background-color: #3B4455;\n",
              "    fill: #D2E3FC;\n",
              "  }\n",
              "\n",
              "  [theme=dark] .colab-df-quickchart:hover {\n",
              "    background-color: #434B5C;\n",
              "    box-shadow: 0px 1px 3px 1px rgba(0, 0, 0, 0.15);\n",
              "    filter: drop-shadow(0px 1px 2px rgba(0, 0, 0, 0.3));\n",
              "    fill: #FFFFFF;\n",
              "  }\n",
              "</style>\n",
              "\n",
              "    <script>\n",
              "      async function quickchart(key) {\n",
              "        const containerElement = document.querySelector('#' + key);\n",
              "        const charts = await google.colab.kernel.invokeFunction(\n",
              "            'suggestCharts', [key], {});\n",
              "      }\n",
              "    </script>\n",
              "\n",
              "      <script>\n",
              "\n",
              "function displayQuickchartButton(domScope) {\n",
              "  let quickchartButtonEl =\n",
              "    domScope.querySelector('#df-2033cf72-b40f-4dc9-96d4-379c8b5458bf button.colab-df-quickchart');\n",
              "  quickchartButtonEl.style.display =\n",
              "    google.colab.kernel.accessAllowed ? 'block' : 'none';\n",
              "}\n",
              "\n",
              "        displayQuickchartButton(document);\n",
              "      </script>\n",
              "      <style>\n",
              "    .colab-df-container {\n",
              "      display:flex;\n",
              "      flex-wrap:wrap;\n",
              "      gap: 12px;\n",
              "    }\n",
              "\n",
              "    .colab-df-convert {\n",
              "      background-color: #E8F0FE;\n",
              "      border: none;\n",
              "      border-radius: 50%;\n",
              "      cursor: pointer;\n",
              "      display: none;\n",
              "      fill: #1967D2;\n",
              "      height: 32px;\n",
              "      padding: 0 0 0 0;\n",
              "      width: 32px;\n",
              "    }\n",
              "\n",
              "    .colab-df-convert:hover {\n",
              "      background-color: #E2EBFA;\n",
              "      box-shadow: 0px 1px 2px rgba(60, 64, 67, 0.3), 0px 1px 3px 1px rgba(60, 64, 67, 0.15);\n",
              "      fill: #174EA6;\n",
              "    }\n",
              "\n",
              "    [theme=dark] .colab-df-convert {\n",
              "      background-color: #3B4455;\n",
              "      fill: #D2E3FC;\n",
              "    }\n",
              "\n",
              "    [theme=dark] .colab-df-convert:hover {\n",
              "      background-color: #434B5C;\n",
              "      box-shadow: 0px 1px 3px 1px rgba(0, 0, 0, 0.15);\n",
              "      filter: drop-shadow(0px 1px 2px rgba(0, 0, 0, 0.3));\n",
              "      fill: #FFFFFF;\n",
              "    }\n",
              "  </style>\n",
              "\n",
              "      <script>\n",
              "        const buttonEl =\n",
              "          document.querySelector('#df-5fc88807-bc5d-4a7a-ba30-3cda6ff15fde button.colab-df-convert');\n",
              "        buttonEl.style.display =\n",
              "          google.colab.kernel.accessAllowed ? 'block' : 'none';\n",
              "\n",
              "        async function convertToInteractive(key) {\n",
              "          const element = document.querySelector('#df-5fc88807-bc5d-4a7a-ba30-3cda6ff15fde');\n",
              "          const dataTable =\n",
              "            await google.colab.kernel.invokeFunction('convertToInteractive',\n",
              "                                                     [key], {});\n",
              "          if (!dataTable) return;\n",
              "\n",
              "          const docLinkHtml = 'Like what you see? Visit the ' +\n",
              "            '<a target=\"_blank\" href=https://colab.research.google.com/notebooks/data_table.ipynb>data table notebook</a>'\n",
              "            + ' to learn more about interactive tables.';\n",
              "          element.innerHTML = '';\n",
              "          dataTable['output_type'] = 'display_data';\n",
              "          await google.colab.output.renderOutput(dataTable, element);\n",
              "          const docLink = document.createElement('div');\n",
              "          docLink.innerHTML = docLinkHtml;\n",
              "          element.appendChild(docLink);\n",
              "        }\n",
              "      </script>\n",
              "    </div>\n",
              "  </div>\n"
            ]
          },
          "metadata": {},
          "execution_count": 55
        }
      ]
    }
  ],
  "metadata": {
    "kernelspec": {
      "display_name": "Python 3 (ipykernel)",
      "language": "python",
      "name": "python3"
    },
    "language_info": {
      "codemirror_mode": {
        "name": "ipython",
        "version": 3
      },
      "file_extension": ".py",
      "mimetype": "text/x-python",
      "name": "python",
      "nbconvert_exporter": "python",
      "pygments_lexer": "ipython3",
      "version": "3.10.9"
    },
    "colab": {
      "provenance": []
    }
  },
  "nbformat": 4,
  "nbformat_minor": 5
}